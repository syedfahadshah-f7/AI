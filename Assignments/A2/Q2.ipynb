{
 "cells": [
  {
   "cell_type": "code",
   "execution_count": 190,
   "metadata": {},
   "outputs": [],
   "source": [
    "import random\n",
    "import numpy as np\n",
    "\n",
    "# Initial data given in problem\n",
    "tasks = [5, 8, 4, 7, 6, 3, 9] \n",
    "facilities = [24, 30, 28]  \n",
    "cost_matrix = [\n",
    "    [10, 12, 9],\n",
    "    [15, 14, 16],\n",
    "    [8, 9, 7],\n",
    "    [12, 10, 13],\n",
    "    [14, 13, 12],\n",
    "    [9, 8, 10],\n",
    "    [11, 12, 13]\n",
    "]\n",
    "\n",
    "POP_SIZE = 6\n",
    "CROSSOVER_RATE = 0.8\n",
    "MUTATION_RATE = 0.2\n",
    "GENERATIONS = 50"
   ]
  },
  {
   "cell_type": "code",
   "execution_count": 191,
   "metadata": {},
   "outputs": [
    {
     "data": {
      "text/plain": [
       "[[2, 1, 1, 3, 1, 1, 3],\n",
       " [2, 3, 3, 3, 3, 1, 2],\n",
       " [2, 3, 3, 2, 3, 1, 3],\n",
       " [3, 2, 3, 1, 3, 3, 1],\n",
       " [3, 3, 1, 1, 2, 1, 3],\n",
       " [1, 2, 2, 1, 3, 3, 2]]"
      ]
     },
     "execution_count": 191,
     "metadata": {},
     "output_type": "execute_result"
    }
   ],
   "source": [
    "# Generating population\n",
    "def generate_population():\n",
    "    return [random.choices([1, 2, 3], k=len(tasks)) for i in range(POP_SIZE)]\n",
    "\n",
    "\n",
    "generate_population()"
   ]
  },
  {
   "cell_type": "code",
   "execution_count": 192,
   "metadata": {},
   "outputs": [],
   "source": [
    "# Fitness function\n",
    "def fitness(cur):\n",
    "    total_cost = 0\n",
    "    loads = [0, 0, 0] # each index express a facility \n",
    "    \n",
    "    for i, facility in enumerate(cur):\n",
    "        facility_index = facility - 1\n",
    "        loads[facility_index] += tasks[i]\n",
    "        total_cost += tasks[i] * cost_matrix[i][facility_index]\n",
    "    \n",
    "     # Applying penalty for overcapacity\n",
    "    for i, load in enumerate(loads):\n",
    "        if load > facilities[i]:\n",
    "            total_cost += (load - facilities[i]) * 100  # each extra hour costs 100 rs\n",
    "    \n",
    "    return -total_cost  \n",
    "    "
   ]
  },
  {
   "cell_type": "code",
   "execution_count": 193,
   "metadata": {},
   "outputs": [],
   "source": [
    "# Selection (Roulette Wheel)\n",
    "def select(population):\n",
    "    fitness_values = [fitness(chrom) for chrom in population]\n",
    "    total_fitness = sum(fitness_values)\n",
    "    probabilities = [f / total_fitness for f in fitness_values]\n",
    "    return population[np.random.choice(len(population), p=probabilities)]\n",
    "\n",
    "# Crossover (One-Point)\n",
    "def crossover(parent1, parent2):\n",
    "    if random.random() < CROSSOVER_RATE:\n",
    "        point = random.randint(1, len(tasks) - 1)\n",
    "        return parent1[:point] + parent2[point:], parent2[:point] + parent1[point:]\n",
    "    return parent1, parent2\n",
    "\n",
    "# Mutation (Swap Mutation)\n",
    "def mutate(cur): \n",
    "    if random.random() < MUTATION_RATE:\n",
    "        idx1, idx2 = random.sample(range(len(tasks)), 2)\n",
    "        cur[idx1], cur[idx2] = cur[idx2], cur[idx1]\n",
    "    return cur\n"
   ]
  },
  {
   "cell_type": "code",
   "execution_count": 297,
   "metadata": {},
   "outputs": [
    {
     "name": "stdout",
     "output_type": "stream",
     "text": [
      "Best Task Allocation: [2, 1, 2, 3, 1, 2, 2]\n",
      "Minimum Production Cost: 523\n"
     ]
    }
   ],
   "source": [
    "# Genetic Algorithm\n",
    "def genetic_algorithm():\n",
    "    population = generate_population()\n",
    "    \n",
    "    for generation in range(GENERATIONS):\n",
    "        new_population = []\n",
    "        \n",
    "        for _ in range(POP_SIZE // 2):\n",
    "            parent1, parent2 = select(population), select(population)\n",
    "            child1, child2 = crossover(parent1, parent2)\n",
    "            new_population.extend([mutate(child1), mutate(child2)])\n",
    "        \n",
    "        population = new_population\n",
    "\n",
    "    best_solution = min(population, key=fitness)\n",
    "    best_cost = -fitness(best_solution)\n",
    "    return best_solution, best_cost\n",
    "\n",
    "\n",
    "best_assignment, best_cost = genetic_algorithm()\n",
    "print(\"Best Task Allocation:\", best_assignment)\n",
    "print(\"Minimum Production Cost:\", best_cost)"
   ]
  }
 ],
 "metadata": {
  "kernelspec": {
   "display_name": "Python 3",
   "language": "python",
   "name": "python3"
  },
  "language_info": {
   "codemirror_mode": {
    "name": "ipython",
    "version": 3
   },
   "file_extension": ".py",
   "mimetype": "text/x-python",
   "name": "python",
   "nbconvert_exporter": "python",
   "pygments_lexer": "ipython3",
   "version": "3.12.4"
  }
 },
 "nbformat": 4,
 "nbformat_minor": 2
}
