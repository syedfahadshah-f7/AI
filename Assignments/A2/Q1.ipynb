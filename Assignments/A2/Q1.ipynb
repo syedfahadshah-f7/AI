{
 "cells": [
  {
   "cell_type": "code",
   "execution_count": 11,
   "metadata": {},
   "outputs": [
    {
     "name": "stdout",
     "output_type": "stream",
     "text": [
      "7\n"
     ]
    }
   ],
   "source": [
    "def find_peak(N: int) -> int:\n",
    "    x = N // 2\n",
    "    while True:\n",
    "        current = query(x)\n",
    "        left = query(x - 1) if x - 1 >= 0 else float('-inf')\n",
    "        right = query(x + 1) if x + 1 <= N else float('-inf')\n",
    "\n",
    "        if current >= left and current >= right:\n",
    "            return x\n",
    "        elif right > current:\n",
    "            x += 1\n",
    "        else:\n",
    "            x -= 1\n",
    "\n",
    "def query(x):\n",
    "    return -1 * (x - 7)**2 + 49\n",
    "\n",
    "\n",
    "N = 11\n",
    "print(find_peak(N))  \n"
   ]
  }
 ],
 "metadata": {
  "kernelspec": {
   "display_name": "Python 3",
   "language": "python",
   "name": "python3"
  },
  "language_info": {
   "codemirror_mode": {
    "name": "ipython",
    "version": 3
   },
   "file_extension": ".py",
   "mimetype": "text/x-python",
   "name": "python",
   "nbconvert_exporter": "python",
   "pygments_lexer": "ipython3",
   "version": "3.12.4"
  }
 },
 "nbformat": 4,
 "nbformat_minor": 2
}
