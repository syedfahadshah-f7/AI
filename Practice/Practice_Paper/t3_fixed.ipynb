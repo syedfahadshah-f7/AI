{
 "cells": [
  {
   "cell_type": "code",
   "execution_count": 6,
   "metadata": {},
   "outputs": [],
   "source": [
    "# population Function\n",
    "import random\n",
    "pop = 10\n",
    "\n",
    "def generate_pop():\n",
    "    population = []\n",
    "    for i in range(pop):\n",
    "        population.append(\"\".join([random.choice(\"01\") for _ in range(6)]))  \n",
    "    return population"
   ]
  },
  {
   "cell_type": "code",
   "execution_count": 7,
   "metadata": {},
   "outputs": [],
   "source": [
    "def bit_converter(bitstr):\n",
    "    val = 0\n",
    "    for i in range(6):\n",
    "        k = int(bitstr[5 - i]) \n",
    "        val += k * (2 ** i)  \n",
    "    return val\n",
    "\n",
    "def fitness_score(bitstr):\n",
    "    x = bit_converter(bitstr)\n",
    "    return 2 * (x**2) - 1"
   ]
  },
  {
   "cell_type": "code",
   "execution_count": 8,
   "metadata": {},
   "outputs": [
    {
     "name": "stdout",
     "output_type": "stream",
     "text": [
      "111111\n"
     ]
    }
   ],
   "source": [
    "import random\n",
    "\n",
    "# Uniform Crossover function\n",
    "def crossover(p1, p2):\n",
    "    mask = \"\".join([random.choice(\"01\") for _ in range(6)]) \n",
    "    child = \"\"\n",
    "    for i in range(6):\n",
    "        if mask[i] == '1':\n",
    "            child += p1[i]  \n",
    "        else:\n",
    "            child += p2[i]  \n",
    "    return child\n",
    "\n",
    "# Test the function\n",
    "print(crossover(\"101011\", \"011110\"))"
   ]
  },
  {
   "cell_type": "code",
   "execution_count": 9,
   "metadata": {},
   "outputs": [],
   "source": [
    "# Selected Parents\n",
    "def selection(pop):\n",
    "    k = 3  \n",
    "    parents = random.sample(pop, k)  \n",
    "    fit_score = [fitness_score(i) for i in parents] \n",
    "    sorted_parents = sorted(zip(parents, fit_score), key=lambda x: x[1], reverse=True) \n",
    "    return sorted_parents[0][0]"
   ]
  },
  {
   "cell_type": "code",
   "execution_count": 10,
   "metadata": {},
   "outputs": [],
   "source": [
    "# Mutation\n",
    "import random\n",
    "\n",
    "def mutation(bitstr):\n",
    "    i = random.randint(0, 5)  \n",
    "    bitstr = list(bitstr)  \n",
    "    if bitstr[i] == '1':\n",
    "        bitstr[i] = '0'\n",
    "    else: \n",
    "        bitstr[i] = '1'\n",
    "    return \"\".join(bitstr) "
   ]
  },
  {
   "cell_type": "code",
   "execution_count": 11,
   "metadata": {},
   "outputs": [
    {
     "name": "stdout",
     "output_type": "stream",
     "text": [
      "Generation: 0\t Best Fitness Score: 7687\n",
      "Generation: 1\t Best Fitness Score: 5407\n",
      "Generation: 2\t Best Fitness Score: 5407\n",
      "Generation: 3\t Best Fitness Score: 5407\n",
      "Generation: 4\t Best Fitness Score: 7199\n",
      "Generation: 5\t Best Fitness Score: 7199\n",
      "Generation: 6\t Best Fitness Score: 7199\n",
      "Generation: 7\t Best Fitness Score: 7199\n",
      "Generation: 8\t Best Fitness Score: 7687\n",
      "Generation: 9\t Best Fitness Score: 7687\n",
      "Generation: 10\t Best Fitness Score: 7687\n",
      "Generation: 11\t Best Fitness Score: 7687\n",
      "Generation: 12\t Best Fitness Score: 7687\n",
      "Generation: 13\t Best Fitness Score: 7687\n",
      "Generation: 14\t Best Fitness Score: 7687\n",
      "Generation: 15\t Best Fitness Score: 7687\n",
      "Generation: 16\t Best Fitness Score: 7687\n",
      "Generation: 17\t Best Fitness Score: 7687\n",
      "Generation: 18\t Best Fitness Score: 7937\n",
      "Generation: 19\t Best Fitness Score: 7937\n",
      "Generation: 20\t Best Fitness Score: 7937\n",
      "Generation: 21\t Best Fitness Score: 7937\n",
      "Generation: 22\t Best Fitness Score: 7937\n",
      "Generation: 23\t Best Fitness Score: 7937\n",
      "Generation: 24\t Best Fitness Score: 7937\n",
      "Generation: 25\t Best Fitness Score: 7937\n",
      "Generation: 26\t Best Fitness Score: 7937\n",
      "Generation: 27\t Best Fitness Score: 7937\n",
      "Generation: 28\t Best Fitness Score: 7937\n",
      "Generation: 29\t Best Fitness Score: 7937\n",
      "Best Sol:('111111', 7937)\n"
     ]
    }
   ],
   "source": [
    "# GA\n",
    "\n",
    "max_gen = 30\n",
    "mut_rate = 0.3\n",
    "population = generate_pop()\n",
    "\n",
    "for gen in range(max_gen):\n",
    "    newpop = []\n",
    "    fitness = [fitness_score(j) for j in population]\n",
    "    best_fit = max(fitness)\n",
    "    print(f\"Generation: {gen}\\t Best Fitness Score: {best_fit}\")\n",
    "    \n",
    "    for i in range(6):\n",
    "        p1 = selection(population)\n",
    "        p2 = selection(population)\n",
    "        child = crossover(p1,p2)\n",
    "        \n",
    "        if random.random() < mut_rate:\n",
    "            child = mutation(child)\n",
    "        newpop.append(child)\n",
    "\n",
    "    population = newpop\n",
    "\n",
    "fit_sol = [fitness_score(i)  for i in population]\n",
    "best_sol = sorted(zip(population,fit_sol),key=lambda x: x[1], reverse=True)\n",
    "print(f\"Best Sol:{best_sol[0]}\")\n",
    "    \n",
    "    "
   ]
  }
 ],
 "metadata": {
  "kernelspec": {
   "display_name": "Python 3",
   "language": "python",
   "name": "python3"
  },
  "language_info": {
   "codemirror_mode": {
    "name": "ipython",
    "version": 3
   },
   "file_extension": ".py",
   "mimetype": "text/x-python",
   "name": "python",
   "nbconvert_exporter": "python",
   "pygments_lexer": "ipython3",
   "version": "3.12.4"
  }
 },
 "nbformat": 4,
 "nbformat_minor": 2
}
