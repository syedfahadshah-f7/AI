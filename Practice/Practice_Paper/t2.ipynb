{
 "cells": [
  {
   "cell_type": "code",
   "execution_count": 2,
   "metadata": {},
   "outputs": [
    {
     "name": "stdout",
     "output_type": "stream",
     "text": [
      "Path: [(0, 0), (1, 0), (2, 0), (2, 1), (2, 2), (3, 2), (3, 3), (3, 4), (4, 4)] cost: 13\n"
     ]
    }
   ],
   "source": [
    "grid = [\n",
    "    [1, 2, 3, 7, 4],\n",
    "    [1, 7, 1, 2, 2],\n",
    "    [2, 3, 1, 7, 1],\n",
    "    [7, 7, 2, 1, 1],\n",
    "    [1, 1, 2, 2, 1]\n",
    "]\n",
    "\n",
    "N = 5\n",
    "M = 5\n",
    "dr = [(0, -1), (0, 1), (1, 0), (-1, 0)]\n",
    "\n",
    "def a_star(start, goal):\n",
    "    x, y = start\n",
    "    frontier = [((x, y), grid[x][y])]  # Priority queue: ((x, y), cost)\n",
    "    visited = set()\n",
    "    g_cost = {(x, y): grid[x][y]}  # Cost to reach each node\n",
    "    come_from = {(x, y): None}  # To reconstruct the path\n",
    "\n",
    "    while frontier:\n",
    "        # Sort frontier by cost (priority queue)\n",
    "        frontier.sort(key=lambda x: x[1])\n",
    "        (x, y), cost = frontier.pop(0)\n",
    "\n",
    "        # Skip if already visited\n",
    "        if (x, y) in visited:\n",
    "            continue\n",
    "        visited.add((x, y))\n",
    "\n",
    "        # Goal check\n",
    "        if (x, y) == goal:\n",
    "            path = []\n",
    "            current = (x, y)\n",
    "            while current is not None:\n",
    "                path.append(current)\n",
    "                current = come_from[current]\n",
    "            path.reverse()\n",
    "            print(f\"Path: {path} cost: {g_cost[(4,4)]}\")\n",
    "            return\n",
    "\n",
    "        # Explore neighbors\n",
    "        for dx, dy in dr:\n",
    "            nx, ny = x + dx, y + dy\n",
    "            if 0 <= nx < N and 0 <= ny < M and grid[nx][ny] != 7:\n",
    "                new_gcost = g_cost[(x, y)] + grid[nx][ny]\n",
    "                if (nx, ny) not in g_cost or new_gcost < g_cost[(nx, ny)]:\n",
    "                    g_cost[(nx, ny)] = new_gcost\n",
    "                    come_from[(nx, ny)] = (x, y)\n",
    "                    frontier.append(((nx, ny), new_gcost))\n",
    "\n",
    "    print(\"No Path Found\\n\")\n",
    "\n",
    "# Run A* algorithm\n",
    "a_star((0, 0), (4, 4))"
   ]
  }
 ],
 "metadata": {
  "kernelspec": {
   "display_name": "Python 3",
   "language": "python",
   "name": "python3"
  },
  "language_info": {
   "codemirror_mode": {
    "name": "ipython",
    "version": 3
   },
   "file_extension": ".py",
   "mimetype": "text/x-python",
   "name": "python",
   "nbconvert_exporter": "python",
   "pygments_lexer": "ipython3",
   "version": "3.12.4"
  }
 },
 "nbformat": 4,
 "nbformat_minor": 2
}
