{
 "cells": [
  {
   "cell_type": "code",
   "execution_count": null,
   "metadata": {},
   "outputs": [],
   "source": [
    "grid=[[1 ,1 ,2 ,7,3],\n",
    "      [3 ,7 ,1 ,2 ,1],\n",
    "      [1 ,1 ,1 ,7,2],\n",
    "      [7 ,7 ,2 ,1 ,1],\n",
    "      [2 ,2 ,1 ,1 ,1]]\n",
    "goal=(4,4)\n",
    "start=(0,0)\n",
    "N=5\n",
    "M=5\n",
    "dir= [(0,1),(0,-1),(1,0),(-1,0)]\n",
    "def heuristic(cur):\n",
    "    x2,y2 = goal\n",
    "    x1,y1 = cur\n",
    "    return abs(x2-x1) + abs(y2-y1)"
   ]
  },
  {
   "cell_type": "code",
   "execution_count": 7,
   "metadata": {},
   "outputs": [
    {
     "name": "stdout",
     "output_type": "stream",
     "text": [
      "Path: [(0, 0), (0, 1), (0, 2), (1, 2), (2, 2), (3, 2), (4, 2), (4, 3), (4, 4)] Cost : 11\n"
     ]
    },
    {
     "ename": "TypeError",
     "evalue": "cannot unpack non-iterable NoneType object",
     "output_type": "error",
     "traceback": [
      "\u001b[1;31m---------------------------------------------------------------------------\u001b[0m",
      "\u001b[1;31mTypeError\u001b[0m                                 Traceback (most recent call last)",
      "Cell \u001b[1;32mIn[7], line 36\u001b[0m\n\u001b[0;32m     32\u001b[0m                     came_from[(nx,ny)] \u001b[38;5;241m=\u001b[39m cur\n\u001b[0;32m     33\u001b[0m                     pq\u001b[38;5;241m.\u001b[39mappend(((nx,ny),f_cost))\n\u001b[1;32m---> 36\u001b[0m \u001b[43ma_star\u001b[49m\u001b[43m(\u001b[49m\u001b[43m)\u001b[49m\n",
      "Cell \u001b[1;32mIn[7], line 24\u001b[0m, in \u001b[0;36ma_star\u001b[1;34m()\u001b[0m\n\u001b[0;32m     21\u001b[0m     path\u001b[38;5;241m.\u001b[39mreverse()\n\u001b[0;32m     22\u001b[0m     \u001b[38;5;28mprint\u001b[39m(\u001b[38;5;124mf\u001b[39m\u001b[38;5;124m\"\u001b[39m\u001b[38;5;124mPath: \u001b[39m\u001b[38;5;132;01m{\u001b[39;00mpath\u001b[38;5;132;01m}\u001b[39;00m\u001b[38;5;124m Cost : \u001b[39m\u001b[38;5;132;01m{\u001b[39;00mg_cost[goal]\u001b[38;5;132;01m}\u001b[39;00m\u001b[38;5;124m\"\u001b[39m)\n\u001b[1;32m---> 24\u001b[0m x,y \u001b[38;5;241m=\u001b[39m cur\n\u001b[0;32m     25\u001b[0m \u001b[38;5;28;01mfor\u001b[39;00m dx,dy \u001b[38;5;129;01min\u001b[39;00m \u001b[38;5;28mdir\u001b[39m:\n\u001b[0;32m     26\u001b[0m     nx,ny \u001b[38;5;241m=\u001b[39m x\u001b[38;5;241m+\u001b[39mdx,y\u001b[38;5;241m+\u001b[39mdy\n",
      "\u001b[1;31mTypeError\u001b[0m: cannot unpack non-iterable NoneType object"
     ]
    }
   ],
   "source": [
    "def a_star():\n",
    "    pq = [((start),heuristic(start))]\n",
    "    visited =set()\n",
    "    came_from ={start:None}\n",
    "    g_cost = {start:grid[0][0]}\n",
    "    \n",
    "    \n",
    "    while pq:\n",
    "        pq.sort(key=lambda x:x[1])\n",
    "        cur,_ = pq.pop(0)\n",
    "        \n",
    "        if cur in visited:\n",
    "            continue\n",
    "        visited.add(cur)\n",
    "        \n",
    "        if cur == goal:\n",
    "            path = []\n",
    "            while cur != None:\n",
    "                path.append(cur)\n",
    "                cur = came_from[cur]\n",
    "            path.reverse()\n",
    "            print(f\"Path: {path} Cost : {g_cost[goal]}\")\n",
    "        \n",
    "        x,y = cur\n",
    "        for dx,dy in dir:\n",
    "            nx,ny = x+dx,y+dy\n",
    "            if 0 <= nx <N and 0 <= ny < M and grid[nx][ny] != 7:\n",
    "                new_g_cost = g_cost[cur] + grid[nx][ny]\n",
    "                f_cost = new_g_cost + heuristic(cur)\n",
    "                if (nx,ny) not in visited or new_g_cost<g_cost[(nx,ny)]:\n",
    "                    g_cost[(nx,ny)] = new_g_cost\n",
    "                    came_from[(nx,ny)] = cur\n",
    "                    pq.append(((nx,ny),f_cost))\n",
    "                    \n",
    "\n",
    "a_star()\n",
    "        "
   ]
  }
 ],
 "metadata": {
  "kernelspec": {
   "display_name": "Python 3",
   "language": "python",
   "name": "python3"
  },
  "language_info": {
   "codemirror_mode": {
    "name": "ipython",
    "version": 3
   },
   "file_extension": ".py",
   "mimetype": "text/x-python",
   "name": "python",
   "nbconvert_exporter": "python",
   "pygments_lexer": "ipython3",
   "version": "3.12.4"
  }
 },
 "nbformat": 4,
 "nbformat_minor": 2
}
