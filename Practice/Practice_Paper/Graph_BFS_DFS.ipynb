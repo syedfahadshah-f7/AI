{
 "cells": [
  {
   "cell_type": "code",
   "execution_count": 14,
   "metadata": {},
   "outputs": [],
   "source": [
    "tree = {\n",
    "'A': ['B', 'C'],\n",
    "'B': ['D', 'E'],\n",
    "'C': ['F', 'G'],\n",
    "'D': ['H'],\n",
    "'E': [],\n",
    "'F': ['I'],\n",
    "'G': [],\n",
    "'H': [],\n",
    "'I': []\n",
    "}\n",
    "# Define Start and Goal Nodes\n",
    "start_node = 'A'\n",
    "goal_node = 'I'\n",
    "\n",
    "\n"
   ]
  },
  {
   "cell_type": "code",
   "execution_count": 15,
   "metadata": {},
   "outputs": [
    {
     "name": "stdout",
     "output_type": "stream",
     "text": [
      "Path to Goal: ['A', 'C', 'F', 'I']\n"
     ]
    }
   ],
   "source": [
    "from collections import deque\n",
    "\n",
    "def BFS(start, goal, tree):\n",
    "    came_from = {start: None}\n",
    "    visited = set()\n",
    "    visited.add(start)\n",
    "    q = deque([start])  \n",
    "    \n",
    "    while q:\n",
    "        current = q.popleft()\n",
    "        if current == goal:\n",
    "            path = []\n",
    "            while current is not None:\n",
    "                path.append(current)\n",
    "                current = came_from[current]\n",
    "            path.reverse()\n",
    "            return f\"Path to Goal: {path}\"  \n",
    "\n",
    "        for n in tree.get(current, []):  \n",
    "            if n not in visited:\n",
    "                visited.add(n)\n",
    "                q.append(n)\n",
    "                came_from[n] = current  \n",
    "    \n",
    "    return \"No Path Found\"  \n",
    "\n",
    "\n",
    "print(BFS(start_node, goal_node, tree))\n"
   ]
  },
  {
   "cell_type": "code",
   "execution_count": 17,
   "metadata": {},
   "outputs": [
    {
     "name": "stdout",
     "output_type": "stream",
     "text": [
      "Path to Goal: ['A', 'C', 'F', 'I']\n"
     ]
    }
   ],
   "source": [
    "def Rec_DFS(start,goal,visited,came_From):\n",
    "    if start == goal:\n",
    "        return True\n",
    "    visited.add(start)\n",
    "    \n",
    "    for n in tree.get(start,[]):\n",
    "        if n not in visited:\n",
    "            came_From[n] = start\n",
    "            if Rec_DFS(n,goal,visited,came_From):\n",
    "                return True\n",
    "    return False\n",
    "\n",
    "def DFS(start,goal):\n",
    "    visited = set()\n",
    "    came_from = {start:None}\n",
    "    if Rec_DFS(start,goal,visited,came_from):\n",
    "        path = []\n",
    "        current = goal\n",
    "        while current is not None:\n",
    "            path.append(current)\n",
    "            current = came_from[current]\n",
    "        path.reverse()\n",
    "        return f\"Path to Goal: {path}\"\n",
    "    else:\n",
    "        return \"Path Not Found\"\n",
    "\n",
    "\n",
    "print(DFS(start_node,goal_node))\n",
    "    "
   ]
  }
 ],
 "metadata": {
  "kernelspec": {
   "display_name": "Python 3",
   "language": "python",
   "name": "python3"
  },
  "language_info": {
   "codemirror_mode": {
    "name": "ipython",
    "version": 3
   },
   "file_extension": ".py",
   "mimetype": "text/x-python",
   "name": "python",
   "nbconvert_exporter": "python",
   "pygments_lexer": "ipython3",
   "version": "3.12.4"
  }
 },
 "nbformat": 4,
 "nbformat_minor": 2
}
