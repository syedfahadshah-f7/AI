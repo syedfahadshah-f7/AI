{
 "cells": [
  {
   "cell_type": "code",
   "execution_count": 21,
   "id": "dfaeab80",
   "metadata": {},
   "outputs": [],
   "source": [
    "from pgmpy.models import DiscreteBayesianNetwork\n",
    "from pgmpy.factors.discrete import TabularCPD\n",
    "from pgmpy.inference import VariableElimination\n"
   ]
  },
  {
   "cell_type": "code",
   "execution_count": 22,
   "id": "b898768f",
   "metadata": {},
   "outputs": [],
   "source": [
    "model = DiscreteBayesianNetwork(\n",
    "    [\n",
    "        (\"Intelligence\",\"Grade\"),(\"StudyHours\",\"Grade\"),(\"Difficulty\",\"Grade\"),(\"Grade\",\"Pass\"),\n",
    "    ]\n",
    ")"
   ]
  },
  {
   "cell_type": "code",
   "execution_count": 23,
   "id": "3a33ce55",
   "metadata": {},
   "outputs": [],
   "source": [
    "cpd_int = TabularCPD(\"Intelligence\",2,[[0.7],[0.3]],state_names={\"Intelligence\": [\"High\",\"Low\"]})\n",
    "cpd_std = TabularCPD(\"StudyHours\",2,[[0.6],[0.4]],state_names={\"StudyHours\": [\"Sufficient\",\"Insufficient\"]})\n",
    "cpd_dif = TabularCPD(\"Difficulty\",2,[[0.4],[0.6]],state_names={\"Difficulty\": [\"Hard\",\"Easy\"]})"
   ]
  },
  {
   "cell_type": "code",
   "execution_count": 24,
   "id": "c9b03627",
   "metadata": {},
   "outputs": [],
   "source": [
    "cpd_pass = TabularCPD(\n",
    "    \"Pass\",2,[[0.95,0.80,0.50],[0.05,0.20,0.50]],evidence=[\"Grade\"],evidence_card=[3],state_names={\"Pass\":[\"Yes\",\"No\"], \"Grade\":[\"A\",\"B\",\"C\"]}\n",
    ")\n",
    "cpd_grade = TabularCPD(\n",
    "    \"Grade\",3,\n",
    "     [ [0.7, 0.5, 0.5, 0.3, 0.4, 0.2, 0.2, 0.1],  # A\n",
    "        [0.2, 0.3, 0.3, 0.4, 0.4, 0.4, 0.3, 0.3],  # B\n",
    "        [0.1, 0.2, 0.2, 0.3, 0.2, 0.4, 0.5, 0.6]   # C\n",
    "    ],\n",
    "     evidence=[\"Intelligence\",\"StudyHours\",\"Difficulty\"],\n",
    "     evidence_card=[2,2,2],\n",
    "     state_names={\n",
    "         \"Grade\" :[\"A\",\"B\",\"C\"],\n",
    "         \"Intelligence\": [\"High\",\"Low\"],\n",
    "         \"StudyHours\" : [\"Sufficient\",\"Insufficient\"],\n",
    "         \"Difficulty\" : [\"Hard\",\"Easy\"]\n",
    "     }\n",
    "    \n",
    ")"
   ]
  },
  {
   "cell_type": "code",
   "execution_count": 25,
   "id": "418b9c92",
   "metadata": {},
   "outputs": [
    {
     "name": "stderr",
     "output_type": "stream",
     "text": [
      "WARNING:pgmpy:Replacing existing CPD for StudyHours\n"
     ]
    },
    {
     "name": "stdout",
     "output_type": "stream",
     "text": [
      "+-----------+-------------+\n",
      "| Pass      |   phi(Pass) |\n",
      "+===========+=============+\n",
      "| Pass(Yes) |      0.8525 |\n",
      "+-----------+-------------+\n",
      "| Pass(No)  |      0.1475 |\n",
      "+-----------+-------------+\n",
      "+--------------------+---------------------+\n",
      "| Intelligence       |   phi(Intelligence) |\n",
      "+====================+=====================+\n",
      "| Intelligence(High) |              0.7285 |\n",
      "+--------------------+---------------------+\n",
      "| Intelligence(Low)  |              0.2715 |\n",
      "+--------------------+---------------------+\n"
     ]
    }
   ],
   "source": [
    "model.add_cpds(cpd_int,cpd_std,cpd_grade,cpd_std,cpd_pass,cpd_dif)\n",
    "model.check_model()\n",
    "\n",
    "inference = VariableElimination(model)\n",
    "\n",
    "res = inference.query(variables=[\"Pass\"],evidence={\"StudyHours\":\"Sufficient\",\"Difficulty\": \"Hard\"})\n",
    "print(res)\n",
    "res = inference.query(variables=[\"Intelligence\"],evidence={\"Pass\": \"Yes\"})\n",
    "print(res)"
   ]
  }
 ],
 "metadata": {
  "kernelspec": {
   "display_name": "Python 3",
   "language": "python",
   "name": "python3"
  },
  "language_info": {
   "codemirror_mode": {
    "name": "ipython",
    "version": 3
   },
   "file_extension": ".py",
   "mimetype": "text/x-python",
   "name": "python",
   "nbconvert_exporter": "python",
   "pygments_lexer": "ipython3",
   "version": "3.12.4"
  }
 },
 "nbformat": 4,
 "nbformat_minor": 5
}
