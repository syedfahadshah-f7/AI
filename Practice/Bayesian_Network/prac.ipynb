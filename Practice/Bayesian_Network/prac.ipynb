{
 "cells": [
  {
   "cell_type": "code",
   "execution_count": 15,
   "id": "21c1bddd",
   "metadata": {},
   "outputs": [],
   "source": [
    "from pgmpy.models import DiscreteBayesianNetwork\n",
    "from pgmpy.inference import VariableElimination\n",
    "from pgmpy.factors.discrete import TabularCPD\n"
   ]
  },
  {
   "cell_type": "code",
   "execution_count": 16,
   "id": "f15b77e0",
   "metadata": {},
   "outputs": [],
   "source": [
    "model = DiscreteBayesianNetwork([\n",
    "    (\"Conditions\",\"Age\"),(\"Conditions\" ,\"SmokingStatus\"),(\"Conditions\" , \"ExerciseLevel\"),(\"Conditions\", \"FamilyHistory\") ]\n",
    ")"
   ]
  },
  {
   "cell_type": "code",
   "execution_count": 17,
   "id": "0e2f5b77",
   "metadata": {},
   "outputs": [],
   "source": [
    "cpd_cond = TabularCPD(\"Conditions\",3,[[0.2],[0.5],[0.3]],state_names={\"Conditions\": [\"HeartDisease\",\"HyperTension\",\"NoDisease\"]})"
   ]
  },
  {
   "cell_type": "code",
   "execution_count": 18,
   "id": "60355ace",
   "metadata": {},
   "outputs": [],
   "source": [
    "cpd_age = TabularCPD(\"Age\",2,\n",
    "    [[0.8,0.6,0.3],[0.2,0.4,0.7]],\n",
    "    evidence=[\"Conditions\"],\n",
    "    evidence_card=[3],\n",
    "    state_names={\n",
    "        \"Age\" : [\"Old\",\"Young\"],\n",
    "        \"Conditions\": [\"HeartDisease\",\"HyperTension\",\"NoDisease\"]\n",
    "    }\n",
    ")\n",
    "\n",
    "cpd_smoke = TabularCPD(\"SmokingStatus\",2,\n",
    "    [[0.75,0.5,0.3],[0.25,0.5,0.7]],\n",
    "    evidence=[\"Conditions\"],\n",
    "    evidence_card=[3],\n",
    "    state_names={\n",
    "        \"SmokingStatus\" : [\"Yes\",\"No\"],\n",
    "        \"Conditions\": [\"HeartDisease\",\"HyperTension\",\"NoDisease\"]\n",
    "    }\n",
    ")\n",
    "\n",
    "cpd_exe = TabularCPD(\"ExerciseLevel\",2,\n",
    "    [[0.8,0.7,0.6],[0.2,0.3,0.4]],\n",
    "    evidence=[\"Conditions\"],\n",
    "    evidence_card=[3],\n",
    "    state_names={\n",
    "        \"ExerciseLevel\" : [\"Low\",\"High\"],\n",
    "        \"Conditions\": [\"HeartDisease\",\"HyperTension\",\"NoDisease\"]\n",
    "    }\n",
    ")\n",
    "\n",
    "cpd_fam = TabularCPD(\"FamilyHistory\",2,\n",
    "    [[0.9,0.7,0.4],[0.1,0.3,0.6]],\n",
    "    evidence=[\"Conditions\"],\n",
    "    evidence_card=[3],\n",
    "    state_names={\n",
    "        \"FamilyHistory\" : [\"Yes\",\"No\"],\n",
    "        \"Conditions\": [\"HeartDisease\",\"HyperTension\",\"NoDisease\"]\n",
    "    }\n",
    ")"
   ]
  },
  {
   "cell_type": "code",
   "execution_count": 19,
   "id": "2521f62c",
   "metadata": {},
   "outputs": [],
   "source": [
    "model.add_cpds(cpd_age,cpd_cond,cpd_exe,cpd_fam,cpd_smoke)\n",
    "assert model.check_model()"
   ]
  },
  {
   "cell_type": "code",
   "execution_count": 20,
   "id": "8ff38cde",
   "metadata": {},
   "outputs": [],
   "source": [
    "inference = VariableElimination(model)"
   ]
  },
  {
   "cell_type": "code",
   "execution_count": 21,
   "id": "b4e1dc55",
   "metadata": {},
   "outputs": [
    {
     "name": "stdout",
     "output_type": "stream",
     "text": [
      "+--------------------------+-------------------+\n",
      "| Conditions               |   phi(Conditions) |\n",
      "+==========================+===================+\n",
      "| Conditions(HeartDisease) |            0.5193 |\n",
      "+--------------------------+-------------------+\n",
      "| Conditions(HyperTension) |            0.4418 |\n",
      "+--------------------------+-------------------+\n",
      "| Conditions(NoDisease)    |            0.0389 |\n",
      "+--------------------------+-------------------+\n"
     ]
    }
   ],
   "source": [
    "t1 = inference.query(variables=[\"Conditions\"],evidence={\"Age\": \"Old\",\"SmokingStatus\":\"Yes\",\"ExerciseLevel\":\"Low\",\"FamilyHistory\":\"Yes\"})\n",
    "print(t1)"
   ]
  },
  {
   "cell_type": "code",
   "execution_count": 22,
   "id": "b1dc8926",
   "metadata": {},
   "outputs": [
    {
     "name": "stdout",
     "output_type": "stream",
     "text": [
      "Task 2 Result:\n",
      "+--------------------------+-------------------+\n",
      "| Conditions               |   phi(Conditions) |\n",
      "+==========================+===================+\n",
      "| Conditions(HeartDisease) |            0.6146 |\n",
      "+--------------------------+-------------------+\n",
      "| Conditions(HyperTension) |            0.3691 |\n",
      "+--------------------------+-------------------+\n",
      "| Conditions(NoDisease)    |            0.0163 |\n",
      "+--------------------------+-------------------+\n"
     ]
    }
   ],
   "source": [
    "\n",
    "# Task 2: Add BloodPressure node and perform updated inference\n",
    "cpd_bp = TabularCPD(\"BloodPressure\", 2,\n",
    "    [[0.85, 0.6, 0.3], [0.15, 0.4, 0.7]],\n",
    "    evidence=[\"Conditions\"],\n",
    "    evidence_card=[3],\n",
    "    state_names={\n",
    "        \"BloodPressure\": [\"High\", \"Normal\"],\n",
    "        \"Conditions\": [\"HeartDisease\", \"HyperTension\", \"NoDisease\"]\n",
    "    })\n",
    "\n",
    "model.add_node(\"BloodPressure\")\n",
    "model.add_edge(\"Conditions\", \"BloodPressure\")\n",
    "model.add_cpds(cpd_bp)\n",
    "assert model.check_model()\n",
    "\n",
    "t2 = inference.query(\n",
    "    variables=[\"Conditions\"],\n",
    "    evidence={\n",
    "        \"Age\": \"Old\",\n",
    "        \"SmokingStatus\": \"Yes\",\n",
    "        \"ExerciseLevel\": \"Low\",\n",
    "        \"FamilyHistory\": \"Yes\",\n",
    "        \"BloodPressure\": \"High\"\n",
    "    }\n",
    ")\n",
    "print(\"Task 2 Result:\")\n",
    "print(t2)\n"
   ]
  },
  {
   "cell_type": "code",
   "execution_count": 23,
   "id": "6b423a28",
   "metadata": {},
   "outputs": [
    {
     "name": "stdout",
     "output_type": "stream",
     "text": [
      "Task 3 Result:\n",
      "+---------------------+----------------------+\n",
      "| ExerciseLevel       |   phi(ExerciseLevel) |\n",
      "+=====================+======================+\n",
      "| ExerciseLevel(Low)  |               0.8000 |\n",
      "+---------------------+----------------------+\n",
      "| ExerciseLevel(High) |               0.2000 |\n",
      "+---------------------+----------------------+\n"
     ]
    }
   ],
   "source": [
    "\n",
    "# Task 3: Compute P(ExerciseLevel = Low | Conditions = HeartDisease)\n",
    "t3 = inference.query(\n",
    "    variables=[\"ExerciseLevel\"],\n",
    "    evidence={\"Conditions\": \"HeartDisease\"}\n",
    ")\n",
    "print(\"Task 3 Result:\")\n",
    "print(t3)\n"
   ]
  }
 ],
 "metadata": {
  "kernelspec": {
   "display_name": "Python 3",
   "language": "python",
   "name": "python3"
  },
  "language_info": {
   "codemirror_mode": {
    "name": "ipython",
    "version": 3
   },
   "file_extension": ".py",
   "mimetype": "text/x-python",
   "name": "python",
   "nbconvert_exporter": "python",
   "pygments_lexer": "ipython3",
   "version": "3.12.4"
  }
 },
 "nbformat": 4,
 "nbformat_minor": 5
}
