{
 "cells": [
  {
   "cell_type": "code",
   "execution_count": null,
   "id": "5c356848",
   "metadata": {},
   "outputs": [
    {
     "name": "stdout",
     "output_type": "stream",
     "text": [
      "{1: class_1(0, 2), 2: class_2(0), 3: class_3(1..2), 4: class_4(1..2), 5: class_5(0..1)}\n"
     ]
    }
   ],
   "source": [
    "from ortools.sat.python import cp_model\n",
    "\n",
    "# Create model\n",
    "model = cp_model.CpModel()\n",
    "\n",
    "# Map professors to integers\n",
    "PROFESSORS = {'A': 0, 'B': 1, 'C': 2}\n",
    "prof_names = ['A', 'B', 'C']\n",
    "\n",
    "# Classes and time slots (start, end)\n",
    "classes = {\n",
    "    1: (8, 9),\n",
    "    2: (8.5, 9.5),\n",
    "    3: (9, 10),\n",
    "    4: (9, 10),\n",
    "    5: (10.5, 11.5),\n",
    "}\n",
    "\n",
    "# Class to allowed professors mapping\n",
    "allowed_profs = {\n",
    "    1: [PROFESSORS['A'], PROFESSORS['C']],\n",
    "    2: [PROFESSORS['A']],\n",
    "    3: [PROFESSORS['B'], PROFESSORS['C']],\n",
    "    4: [PROFESSORS['B'], PROFESSORS['C']],\n",
    "    5: [PROFESSORS['A'], PROFESSORS['B']],\n",
    "}\n",
    "\n",
    "# Step 1: Define Variables\n",
    "class_vars = {}\n",
    "for c in classes:\n",
    "    class_vars[c] = model.NewIntVarFromDomain(\n",
    "        cp_model.Domain.FromValues(allowed_profs[c]), f'class_{c}'\n",
    "    )\n",
    "\n",
    "print(class_vars)"
   ]
  },
  {
   "cell_type": "code",
   "execution_count": 5,
   "id": "49e46416",
   "metadata": {},
   "outputs": [
    {
     "name": "stdout",
     "output_type": "stream",
     "text": [
      "Class 1 → Professor C\n",
      "Class 2 → Professor A\n",
      "Class 3 → Professor C\n",
      "Class 4 → Professor B\n",
      "Class 5 → Professor A\n"
     ]
    }
   ],
   "source": [
    "# Step 2: Add Constraints for overlapping classes\n",
    "def times_overlap(time1, time2):\n",
    "    return not (time1[1] <= time2[0] or time2[1] <= time1[0])\n",
    "\n",
    "# For each pair of overlapping classes, if same prof assigned, constraint violation\n",
    "for c1 in classes:\n",
    "    for c2 in classes:\n",
    "        if c1 < c2 and times_overlap(classes[c1], classes[c2]):\n",
    "            model.Add(class_vars[c1] != class_vars[c2])\n",
    "\n",
    "# Step 3: Solve the problem\n",
    "solver = cp_model.CpSolver()\n",
    "\n",
    "class CSPPrinter(cp_model.CpSolverSolutionCallback):\n",
    "    def __init__(self, variables, prof_names):\n",
    "        cp_model.CpSolverSolutionCallback.__init__(self)\n",
    "        self.variables = variables\n",
    "        self.prof_names = prof_names\n",
    "        self.solution_count = 0\n",
    "\n",
    "    def on_solution_callback(self):\n",
    "        self.solution_count += 1\n",
    "        print(f'\\nSolution {self.solution_count}:')\n",
    "        for c in sorted(self.variables):\n",
    "            assigned = self.Value(self.variables[c])\n",
    "            print(f'Class {c} -> Professor {self.prof_names[assigned]}')\n",
    "\n",
    "# Print all solutions\n",
    "# solution_printer = CSPPrinter(class_vars, prof_names)\n",
    "# status = solver.SearchForAllSolutions(model, solution_printer)\n",
    "\n",
    "# Optionally limit to first solution by using:\n",
    "solver.Solve(model)\n",
    "for c in sorted(class_vars):\n",
    "    print(f'Class {c} → Professor {prof_names[solver.Value(class_vars[c])]}')\n"
   ]
  }
 ],
 "metadata": {
  "kernelspec": {
   "display_name": "Python 3",
   "language": "python",
   "name": "python3"
  },
  "language_info": {
   "codemirror_mode": {
    "name": "ipython",
    "version": 3
   },
   "file_extension": ".py",
   "mimetype": "text/x-python",
   "name": "python",
   "nbconvert_exporter": "python",
   "pygments_lexer": "ipython3",
   "version": "3.12.4"
  }
 },
 "nbformat": 4,
 "nbformat_minor": 5
}
