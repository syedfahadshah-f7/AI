{
 "cells": [
  {
   "cell_type": "code",
   "execution_count": 17,
   "id": "8e1a12fe",
   "metadata": {},
   "outputs": [],
   "source": [
    "from ortools.sat.python import cp_model"
   ]
  },
  {
   "cell_type": "code",
   "execution_count": 18,
   "id": "dc8cbc86",
   "metadata": {},
   "outputs": [],
   "source": [
    "model = cp_model.CpModel()\n",
    "\n",
    "x = model.new_int_var(0,2,\"X\")\n",
    "y = model.new_int_var(0,2,\"Y\")\n",
    "z = model.new_int_var(0,2,\"Z\")\n",
    "\n",
    "model.add( x!=y)\n",
    "\n",
    "solve =cp_model.CpSolver()\n",
    "status = solve.Solve(model)"
   ]
  },
  {
   "cell_type": "code",
   "execution_count": 19,
   "id": "25376578",
   "metadata": {},
   "outputs": [],
   "source": [
    "class PrintCSP(cp_model.CpSolverSolutionCallback):\n",
    "    def __init__(self,var):\n",
    "        super().__init__()\n",
    "        self.variables = var\n",
    "        self.solcnt = 0\n",
    "    def on_solution_callback(self):\n",
    "        self.solcnt += 1\n",
    "        print(f\"Solution: {self.solcnt} X: {self.Value(self.variables[0])} Y: {self.Value(self.variables[1])} Z: {self.Value(self.variables[2])}\")\n"
   ]
  },
  {
   "cell_type": "code",
   "execution_count": 20,
   "id": "9d61ad5f",
   "metadata": {},
   "outputs": [
    {
     "name": "stdout",
     "output_type": "stream",
     "text": [
      "X: 1, Y: 0, Z: 0\n"
     ]
    }
   ],
   "source": [
    "if status == cp_model.OPTIMAL or status == cp_model.FEASIBLE:\n",
    "    print(f\"X: {solve.value(x)}, Y: {solve.value(y)}, Z: {solve.value(z)}\")"
   ]
  },
  {
   "cell_type": "code",
   "execution_count": 21,
   "id": "22fdee89",
   "metadata": {},
   "outputs": [
    {
     "name": "stdout",
     "output_type": "stream",
     "text": [
      "Solution: 1 X: 1 Y: 0 Z: 0\n",
      "Solution: 2 X: 2 Y: 0 Z: 0\n",
      "Solution: 3 X: 2 Y: 0 Z: 1\n",
      "Solution: 4 X: 1 Y: 0 Z: 1\n",
      "Solution: 5 X: 2 Y: 1 Z: 1\n",
      "Solution: 6 X: 2 Y: 1 Z: 0\n",
      "Solution: 7 X: 2 Y: 1 Z: 2\n",
      "Solution: 8 X: 2 Y: 0 Z: 2\n",
      "Solution: 9 X: 1 Y: 0 Z: 2\n",
      "Solution: 10 X: 0 Y: 1 Z: 2\n",
      "Solution: 11 X: 0 Y: 1 Z: 1\n",
      "Solution: 12 X: 0 Y: 2 Z: 1\n",
      "Solution: 13 X: 0 Y: 2 Z: 2\n",
      "Solution: 14 X: 1 Y: 2 Z: 2\n",
      "Solution: 15 X: 1 Y: 2 Z: 1\n",
      "Solution: 16 X: 1 Y: 2 Z: 0\n",
      "Solution: 17 X: 0 Y: 2 Z: 0\n",
      "Solution: 18 X: 0 Y: 1 Z: 0\n"
     ]
    }
   ],
   "source": [
    "prsol = PrintCSP([x,y,z])\n",
    "status = solve.SearchForAllSolutions(model,prsol)"
   ]
  },
  {
   "cell_type": "code",
   "execution_count": 22,
   "id": "0c7409c5",
   "metadata": {},
   "outputs": [],
   "source": [
    "\n",
    "from ortools.sat.python import cp_model\n",
    "model = cp_model.CpModel()\n",
    "def times_overlap(time1, time2):\n",
    "    return not (time1[1] <= time2[0] or time2[1] <= time1[0])\n",
    "instructor = {'X':0, 'Y':1, 'Z':2}\n",
    "ins = [\"X\",\"Y\",\"Z\"]\n",
    "workshop ={\n",
    "    1: (9.0,10.0),\n",
    "    2: (9.5,10.5),\n",
    "    3: (10.0,11.0),\n",
    "    4: (10.5,11.5),\n",
    "    5: (11.0,12.0)\n",
    "}\n",
    "\n",
    "domains= {\n",
    "    1: [instructor['X'],instructor['Z']],\n",
    "    2: [instructor['X'],instructor['Y']],\n",
    "    3: [instructor['Y'],instructor['Z']],\n",
    "    4: [instructor['Y'],instructor['Z']],\n",
    "    5: [instructor['X']]\n",
    "}\n",
    "\n",
    "variables = {}\n",
    "\n",
    "for x in range(1,6):\n",
    "    variables[x] = model.NewIntVarFromDomain(cp_model.Domain.FromValues(domains[x]),f\"workshop_{x}\")\n",
    "\n",
    "for w1 in range(1,6):\n",
    "    for w2 in range(1,6):\n",
    "        if w1<w2 and times_overlap(workshop[w1],workshop[w2]):\n",
    "            model.add(variables[w1] != variables[w2])\n"
   ]
  },
  {
   "cell_type": "code",
   "execution_count": 23,
   "id": "4939927d",
   "metadata": {},
   "outputs": [],
   "source": [
    "class CSPPrinter(cp_model.CpSolverSolutionCallback):\n",
    "    def __init__(self, variables, prof_names):\n",
    "        cp_model.CpSolverSolutionCallback.__init__(self)\n",
    "        self.variables = variables\n",
    "        self.prof_names = prof_names\n",
    "        self.solution_count = 0\n",
    "\n",
    "    def on_solution_callback(self):\n",
    "        self.solution_count += 1\n",
    "        print(f'\\nSolution {self.solution_count}:')\n",
    "        for c in sorted(self.variables):\n",
    "            assigned = self.Value(self.variables[c])\n",
    "            print(f'Workshop{c} -> Instructor {self.prof_names[assigned]}')"
   ]
  },
  {
   "cell_type": "code",
   "execution_count": 24,
   "id": "767bc316",
   "metadata": {},
   "outputs": [
    {
     "name": "stdout",
     "output_type": "stream",
     "text": [
      "\n",
      "Solution 1:\n",
      "Workshop1 -> Instructor Z\n",
      "Workshop2 -> Instructor X\n",
      "Workshop3 -> Instructor Y\n",
      "Workshop4 -> Instructor Z\n",
      "Workshop5 -> Instructor X\n",
      "\n",
      "Solution 2:\n",
      "Workshop1 -> Instructor Z\n",
      "Workshop2 -> Instructor X\n",
      "Workshop3 -> Instructor Z\n",
      "Workshop4 -> Instructor Y\n",
      "Workshop5 -> Instructor X\n",
      "\n",
      "Solution 3:\n",
      "Workshop1 -> Instructor Z\n",
      "Workshop2 -> Instructor Y\n",
      "Workshop3 -> Instructor Z\n",
      "Workshop4 -> Instructor Y\n",
      "Workshop5 -> Instructor X\n",
      "\n",
      "Solution 4:\n",
      "Workshop1 -> Instructor X\n",
      "Workshop2 -> Instructor Y\n",
      "Workshop3 -> Instructor Z\n",
      "Workshop4 -> Instructor Y\n",
      "Workshop5 -> Instructor X\n"
     ]
    }
   ],
   "source": [
    "solver = cp_model.CpSolver()\n",
    "prsol = CSPPrinter(variables,ins)\n",
    "status = solver.SearchForAllSolutions(model,prsol)"
   ]
  },
  {
   "cell_type": "code",
   "execution_count": 25,
   "id": "bebec59b",
   "metadata": {},
   "outputs": [
    {
     "name": "stdout",
     "output_type": "stream",
     "text": [
      "Workshop : 1 Assigned Instructor: 2\n",
      "Workshop : 2 Assigned Instructor: 0\n",
      "Workshop : 3 Assigned Instructor: 1\n",
      "Workshop : 4 Assigned Instructor: 2\n",
      "Workshop : 5 Assigned Instructor: 0\n"
     ]
    }
   ],
   "source": [
    "solver = cp_model.CpSolver()\n",
    "status = solver.solve(model)\n",
    "\n",
    "if status == cp_model.OPTIMAL or status == cp_model.FEASIBLE:\n",
    "    for x in range(1,6):\n",
    "        print(f\"Workshop : {x} Assigned Instructor: {solver.value(variables[x])}\")"
   ]
  },
  {
   "cell_type": "code",
   "execution_count": null,
   "id": "cdbf790a",
   "metadata": {},
   "outputs": [],
   "source": [
    "from ortools.sat.python import cp_model\n",
    "\n",
    "# Initialize the model\n",
    "model = cp_model.CpModel()\n",
    "\n",
    "# Define job data\n",
    "jobs = {\n",
    "    'Job1': {'duration': 2},\n",
    "    'Job2': {'duration': 1},\n",
    "    'Job3': {'duration': 2},\n",
    "}\n",
    "horizon = 6  # Maximum time\n",
    "\n",
    "# Create start variables and intervals for each job\n",
    "start_vars = {}\n",
    "end_vars = {}\n",
    "intervals = {}\n",
    "\n",
    "for job, data in jobs.items():\n",
    "    duration = data['duration']\n",
    "    start = model.NewIntVar(0, horizon - duration, f'{job}_start')\n",
    "    end = model.NewIntVar(0, horizon, f'{job}_end')\n",
    "    interval = model.NewIntervalVar(start, duration, end, f'{job}_interval')\n",
    "    \n",
    "    start_vars[job] = start\n",
    "    end_vars[job] = end\n",
    "    intervals[job] = interval\n",
    "\n",
    "# Constraint 1: No overlapping jobs (using interval variables)\n",
    "model.AddNoOverlap(intervals.values())\n",
    "\n",
    "# Constraint 2: Job1 must finish before Job3 starts\n",
    "model.Add(end_vars['Job1'] <= start_vars['Job3'])\n",
    "\n",
    "# Constraint 3: Job2 must start at or after time 1\n",
    "model.Add(start_vars['Job2'] >= 1)\n",
    "\n",
    "# Solver and solution printer\n",
    "solver = cp_model.CpSolver()\n",
    "\n",
    "class SolutionPrinter(cp_model.CpSolverSolutionCallback):\n",
    "    def _init_(self, starts, durations):\n",
    "        cp_model.CpSolverSolutionCallback._init_(self)\n",
    "        self._starts = starts\n",
    "        self._durations = durations\n",
    "        self._solution_count = 0\n",
    "\n",
    "    def on_solution_callback(self):\n",
    "        self._solution_count += 1\n",
    "        print(f\"Solution {self._solution_count}:\")\n",
    "        for job in self._starts:\n",
    "            start = self.Value(self._starts[job])\n",
    "            print(f\"  {job} starts at {start}, ends at {start + self._durations[job]}\")\n",
    "        print()\n",
    "\n",
    "# Search for all feasible solutions\n",
    "solution_printer = SolutionPrinter(start_vars, {job: jobs[job]['duration'] for job in jobs})\n",
    "solver.SearchForAllSolutions(model, solution_printer)"
   ]
  }
 ],
 "metadata": {
  "kernelspec": {
   "display_name": "Python 3",
   "language": "python",
   "name": "python3"
  },
  "language_info": {
   "codemirror_mode": {
    "name": "ipython",
    "version": 3
   },
   "file_extension": ".py",
   "mimetype": "text/x-python",
   "name": "python",
   "nbconvert_exporter": "python",
   "pygments_lexer": "ipython3",
   "version": "3.12.4"
  }
 },
 "nbformat": 4,
 "nbformat_minor": 5
}
