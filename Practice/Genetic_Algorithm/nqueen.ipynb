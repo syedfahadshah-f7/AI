{
 "cells": [
  {
   "cell_type": "code",
   "execution_count": null,
   "metadata": {},
   "outputs": [],
   "source": [
    "import random\n",
    "\n",
    "# Define the number of queens\n",
    "n = 8\n",
    "\n",
    "# Fitness function: counts non-attacking pairs of queens\n",
    "def calculate_fitness(individual): #[3,4,5,1,3,7...]\n",
    "    non_attacking_pairs = 0\n",
    "    total_pairs = n * (n - 1) // 2  # Maximum possible non-attacking pairs\n",
    "\n",
    "    # Check for conflicts\n",
    "    for i in range(n):\n",
    "        for j in range(i + 1, n):\n",
    "            # No same column or diagonal conflict\n",
    "            if individual[i] != individual[j] and abs(individual[i] - individual[j]) != abs(i - j):\n",
    "                non_attacking_pairs += 1\n",
    "\n",
    "    # Fitness score is the ratio of non-attacking pairs\n",
    "    return non_attacking_pairs / total_pairs\n"
   ]
  },
  {
   "cell_type": "code",
   "execution_count": null,
   "metadata": {},
   "outputs": [],
   "source": [
    "# Generate a random individual (chromosome) based on column positions\n",
    "def create_random_individual():\n",
    "    return random.sample(range(n), n)  # Ensure unique column positions [0,1,2,3,4,5,6,7] n=8 : [3,7,.....]\n",
    "\n",
    "# Create an initial population of random individuals\n",
    "population_size = 10\n",
    "population = [create_random_individual() for _ in range(population_size)]"
   ]
  },
  {
   "cell_type": "code",
   "execution_count": 3,
   "metadata": {},
   "outputs": [
    {
     "name": "stdout",
     "output_type": "stream",
     "text": [
      "Fitness Scores: [0.8571428571428571, 0.7857142857142857, 0.7857142857142857, 0.8214285714285714, 0.7142857142857143, 0.8214285714285714, 0.8571428571428571, 0.5, 0.8214285714285714, 0.8214285714285714]\n"
     ]
    }
   ],
   "source": [
    "# Evaluate fitness for each individual\n",
    "fitness_scores = [calculate_fitness(ind) for ind in population]\n",
    "print(\"Fitness Scores:\", fitness_scores)"
   ]
  },
  {
   "cell_type": "code",
   "execution_count": null,
   "metadata": {},
   "outputs": [
    {
     "name": "stdout",
     "output_type": "stream",
     "text": [
      "Selected Parents: [[7, 1, 0, 5, 3, 6, 2, 4], [2, 6, 1, 5, 4, 7, 0, 3], [7, 6, 2, 0, 5, 4, 3, 1], [7, 5, 4, 3, 0, 6, 2, 1], [5, 4, 6, 7, 3, 2, 0, 1]]\n"
     ]
    }
   ],
   "source": [
    "# Select parents based on fitness\n",
    "def select_parents(population, fitness_scores):\n",
    "    sorted_population = [route for _, route in sorted(zip(fitness_scores, population), reverse=True)]  #[[\"fit\",\"pop\"],[..]]\n",
    "    return sorted_population[:len(population) // 2]\n",
    "\n",
    "# Select parents\n",
    "parents = select_parents(population, fitness_scores)\n",
    "print(\"Selected Parents:\", parents)\n"
   ]
  },
  {
   "cell_type": "code",
   "execution_count": null,
   "metadata": {},
   "outputs": [
    {
     "name": "stdout",
     "output_type": "stream",
     "text": [
      "New Population after Crossover: [[0, 7, 1, 5, 3, 6, 2, 4], [5, 0, 1, 7, 3, 6, 2, 4], [1, 7, 0, 5, 3, 6, 2, 4], [3, 4, 7, 5, 0, 6, 2, 1], [4, 6, 7, 5, 3, 2, 0, 1], [7, 6, 3, 4, 5, 2, 0, 1], [7, 5, 4, 3, 0, 6, 2, 1], [2, 6, 1, 5, 4, 7, 0, 3], [7, 0, 1, 5, 3, 6, 2, 4], [4, 5, 6, 7, 3, 2, 0, 1]]\n"
     ]
    }
   ],
   "source": [
    "# Crossover function: single-point crossover with unique column positions\n",
    "def crossover(parent1, parent2):\n",
    "    point = random.randint(1, n - 2)  # Choose a crossover point\n",
    "    child = parent1[:point] + parent2[point:]\n",
    "\n",
    "    # Ensure unique column positions\n",
    "    missing = set(range(n)) - set(child)\n",
    "    #duplicates = [col for col in child if child.count(col) > 1]\n",
    "    for i in range(len(child)):\n",
    "        if child.count(child[i]) > 1:\n",
    "            child[i] = missing.pop()\n",
    "    return child\n",
    "\n",
    "# Create new population using crossover\n",
    "new_population = []\n",
    "for _ in range(population_size):\n",
    "    parent1, parent2 = random.sample(parents, 2)\n",
    "    child = crossover(parent1, parent2)\n",
    "    new_population.append(child)\n",
    "print(\"New Population after Crossover:\", new_population)\n"
   ]
  },
  {
   "cell_type": "code",
   "execution_count": 6,
   "metadata": {},
   "outputs": [
    {
     "name": "stdout",
     "output_type": "stream",
     "text": [
      "Population after Mutation: [[0, 7, 1, 5, 3, 6, 2, 4], [5, 0, 1, 7, 3, 6, 2, 4], [1, 7, 0, 5, 3, 6, 2, 4], [3, 4, 6, 5, 0, 7, 2, 1], [4, 6, 7, 5, 3, 2, 0, 1], [7, 1, 3, 4, 5, 2, 0, 6], [7, 5, 4, 3, 0, 6, 2, 1], [2, 6, 1, 5, 4, 7, 0, 3], [7, 0, 1, 3, 5, 6, 2, 4], [4, 5, 6, 7, 3, 2, 0, 1]]\n"
     ]
    }
   ],
   "source": [
    "# Mutation function: swap two column positions\n",
    "def mutate(individual):\n",
    "    idx1, idx2 = random.sample(range(n), 2)\n",
    "    individual[idx1], individual[idx2] = individual[idx2], individual[idx1]\n",
    "    return individual\n",
    "\n",
    "# Apply mutation with a probability of 0.1\n",
    "mutation_rate = 0.1\n",
    "for i in range(len(new_population)):\n",
    "    if random.random() < mutation_rate:\n",
    "        new_population[i] = mutate(new_population[i])\n",
    "print(\"Population after Mutation:\", new_population)\n"
   ]
  },
  {
   "cell_type": "code",
   "execution_count": 7,
   "metadata": {},
   "outputs": [
    {
     "name": "stdout",
     "output_type": "stream",
     "text": [
      "Generation 0 Best Fitness: 0.9285714285714286\n",
      "Generation 1 Best Fitness: 0.9642857142857143\n",
      "Generation 2 Best Fitness: 0.9642857142857143\n",
      "Generation 3 Best Fitness: 0.9642857142857143\n",
      "Generation 4 Best Fitness: 0.9642857142857143\n",
      "Generation 5 Best Fitness: 0.9642857142857143\n",
      "Generation 6 Best Fitness: 0.9642857142857143\n",
      "Generation 7 Best Fitness: 0.9642857142857143\n",
      "Generation 8 Best Fitness: 0.9642857142857143\n",
      "Generation 9 Best Fitness: 0.9642857142857143\n",
      "Generation 10 Best Fitness: 0.9642857142857143\n",
      "Generation 11 Best Fitness: 0.9642857142857143\n",
      "Generation 12 Best Fitness: 0.9642857142857143\n",
      "Generation 13 Best Fitness: 0.9642857142857143\n",
      "Generation 14 Best Fitness: 0.9642857142857143\n",
      "Generation 15 Best Fitness: 0.9642857142857143\n",
      "Generation 16 Best Fitness: 0.9642857142857143\n",
      "Generation 17 Best Fitness: 0.9642857142857143\n",
      "Generation 18 Best Fitness: 0.9642857142857143\n",
      "Generation 19 Best Fitness: 0.9642857142857143\n",
      "Generation 20 Best Fitness: 0.9642857142857143\n",
      "Generation 21 Best Fitness: 0.9642857142857143\n",
      "Generation 22 Best Fitness: 0.9642857142857143\n",
      "Generation 23 Best Fitness: 0.9642857142857143\n",
      "Generation 24 Best Fitness: 0.9642857142857143\n",
      "Generation 25 Best Fitness: 0.9642857142857143\n",
      "Generation 26 Best Fitness: 0.9642857142857143\n",
      "Generation 27 Best Fitness: 0.9642857142857143\n",
      "Generation 28 Best Fitness: 0.9642857142857143\n",
      "Generation 29 Best Fitness: 0.9642857142857143\n",
      "Generation 30 Best Fitness: 0.9642857142857143\n",
      "Generation 31 Best Fitness: 0.9642857142857143\n",
      "Generation 32 Best Fitness: 0.9642857142857143\n",
      "Generation 33 Best Fitness: 0.9642857142857143\n",
      "Generation 34 Best Fitness: 0.9642857142857143\n",
      "Generation 35 Best Fitness: 0.9642857142857143\n",
      "Generation 36 Best Fitness: 0.9642857142857143\n",
      "Generation 37 Best Fitness: 0.9642857142857143\n",
      "Generation 38 Best Fitness: 0.9642857142857143\n",
      "Generation 39 Best Fitness: 0.9642857142857143\n",
      "Generation 40 Best Fitness: 0.9642857142857143\n",
      "Generation 41 Best Fitness: 0.9642857142857143\n",
      "Generation 42 Best Fitness: 0.9642857142857143\n",
      "Generation 43 Best Fitness: 0.9642857142857143\n",
      "Generation 44 Best Fitness: 0.9642857142857143\n",
      "Generation 45 Best Fitness: 0.9642857142857143\n",
      "Generation 46 Best Fitness: 0.9642857142857143\n",
      "Generation 47 Best Fitness: 0.9642857142857143\n",
      "Generation 48 Best Fitness: 0.9642857142857143\n",
      "Generation 49 Best Fitness: 0.9642857142857143\n",
      "Generation 50 Best Fitness: 0.9642857142857143\n",
      "Generation 51 Best Fitness: 0.9642857142857143\n",
      "Generation 52 Best Fitness: 0.9642857142857143\n",
      "Generation 53 Best Fitness: 0.9642857142857143\n",
      "Generation 54 Best Fitness: 0.9642857142857143\n",
      "Generation 55 Best Fitness: 0.9642857142857143\n",
      "Generation 56 Best Fitness: 0.9642857142857143\n",
      "Generation 57 Best Fitness: 0.9642857142857143\n",
      "Generation 58 Best Fitness: 0.9642857142857143\n",
      "Generation 59 Best Fitness: 0.9642857142857143\n",
      "Generation 60 Best Fitness: 0.9642857142857143\n",
      "Generation 61 Best Fitness: 0.9642857142857143\n",
      "Generation 62 Best Fitness: 0.9642857142857143\n",
      "Generation 63 Best Fitness: 0.9642857142857143\n",
      "Generation 64 Best Fitness: 0.9642857142857143\n",
      "Generation 65 Best Fitness: 0.9642857142857143\n",
      "Generation 66 Best Fitness: 0.9642857142857143\n",
      "Generation 67 Best Fitness: 0.9642857142857143\n",
      "Generation 68 Best Fitness: 0.9642857142857143\n",
      "Generation 69 Best Fitness: 0.9642857142857143\n",
      "Generation 70 Best Fitness: 0.9642857142857143\n",
      "Generation 71 Best Fitness: 0.9642857142857143\n",
      "Generation 72 Best Fitness: 0.9642857142857143\n",
      "Generation 73 Best Fitness: 0.9642857142857143\n",
      "Generation 74 Best Fitness: 0.9642857142857143\n",
      "Generation 75 Best Fitness: 0.9642857142857143\n",
      "Generation 76 Best Fitness: 0.9642857142857143\n",
      "Generation 77 Best Fitness: 0.9642857142857143\n",
      "Generation 78 Best Fitness: 0.9642857142857143\n",
      "Generation 79 Best Fitness: 0.9642857142857143\n",
      "Generation 80 Best Fitness: 0.9642857142857143\n",
      "Generation 81 Best Fitness: 0.9642857142857143\n",
      "Generation 82 Best Fitness: 0.9642857142857143\n",
      "Generation 83 Best Fitness: 0.9642857142857143\n",
      "Generation 84 Best Fitness: 0.9642857142857143\n",
      "Generation 85 Best Fitness: 0.9642857142857143\n",
      "Generation 86 Best Fitness: 0.9642857142857143\n",
      "Generation 87 Best Fitness: 0.9642857142857143\n",
      "Generation 88 Best Fitness: 0.9642857142857143\n",
      "Generation 89 Best Fitness: 0.9642857142857143\n",
      "Generation 90 Best Fitness: 0.9642857142857143\n",
      "Generation 91 Best Fitness: 0.9642857142857143\n",
      "Generation 92 Best Fitness: 0.9642857142857143\n",
      "Generation 93 Best Fitness: 0.9642857142857143\n",
      "Generation 94 Best Fitness: 0.9642857142857143\n",
      "Generation 95 Best Fitness: 0.9642857142857143\n",
      "Generation 96 Best Fitness: 0.9642857142857143\n",
      "Generation 97 Best Fitness: 0.9642857142857143\n",
      "Generation 98 Best Fitness: 0.9642857142857143\n",
      "Generation 99 Best Fitness: 0.9642857142857143\n",
      "Best Solution: [3, 5, 7, 1, 4, 2, 0, 6]\n",
      "Best Fitness: 0.9642857142857143\n"
     ]
    }
   ],
   "source": [
    "# Genetic Algorithm main function\n",
    "def genetic_algorithm():\n",
    "    population = [create_random_individual() for _ in range(population_size)]\n",
    "    generation = 0\n",
    "    best_fitness = 0\n",
    "\n",
    "    while best_fitness < 1.0 and generation < 100:\n",
    "        fitness_scores = [calculate_fitness(ind) for ind in population]\n",
    "        best_fitness = max(fitness_scores)\n",
    "        print(f\"Generation {generation} Best Fitness: {best_fitness}\")\n",
    "\n",
    "        # Check for optimal solution\n",
    "        if best_fitness == 1.0:\n",
    "            break\n",
    "\n",
    "        # Selection\n",
    "        parents = select_parents(population, fitness_scores)\n",
    "\n",
    "        # Crossover\n",
    "        new_population = [crossover(random.choice(parents), random.choice(parents)) for _ in range(population_size)]\n",
    "\n",
    "        # Mutation\n",
    "        for i in range(len(new_population)):\n",
    "            if random.random() < mutation_rate:\n",
    "                new_population[i] = mutate(new_population[i])\n",
    "\n",
    "        population = new_population\n",
    "        generation += 1\n",
    "\n",
    "    # Return the best solution\n",
    "    best_individual = max(population, key=calculate_fitness)\n",
    "    return best_individual, calculate_fitness(best_individual)\n",
    "\n",
    "# Run the Genetic Algorithm\n",
    "solution, fitness = genetic_algorithm()\n",
    "print(\"Best Solution:\", solution)\n",
    "print(\"Best Fitness:\", fitness)\n"
   ]
  }
 ],
 "metadata": {
  "kernelspec": {
   "display_name": "Python 3",
   "language": "python",
   "name": "python3"
  },
  "language_info": {
   "codemirror_mode": {
    "name": "ipython",
    "version": 3
   },
   "file_extension": ".py",
   "mimetype": "text/x-python",
   "name": "python",
   "nbconvert_exporter": "python",
   "pygments_lexer": "ipython3",
   "version": "3.12.4"
  }
 },
 "nbformat": 4,
 "nbformat_minor": 2
}
