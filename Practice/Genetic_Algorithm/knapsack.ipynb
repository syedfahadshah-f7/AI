{
 "cells": [
  {
   "cell_type": "code",
   "execution_count": 58,
   "metadata": {},
   "outputs": [
    {
     "name": "stdout",
     "output_type": "stream",
     "text": [
      "['0001', '1011', '0011', '0100']\n"
     ]
    }
   ],
   "source": [
    "# Generate Population\n",
    "\n",
    "import random\n",
    "\n",
    "p_cnt = 4\n",
    "\n",
    "def Generate_Population():\n",
    "    population =[]\n",
    "    for i in range(p_cnt):\n",
    "        population.append(\"\".join([random.choice(\"01\") for _ in range(4)]))\n",
    "    return population\n",
    "\n",
    "print(Generate_Population())"
   ]
  },
  {
   "cell_type": "code",
   "execution_count": 59,
   "metadata": {},
   "outputs": [
    {
     "name": "stdout",
     "output_type": "stream",
     "text": [
      "22\n"
     ]
    }
   ],
   "source": [
    "# Fitness Function\n",
    "\n",
    "def Fitness(bitstr):\n",
    "    weight = [5,3,7,2]\n",
    "    cost = [12,5,10,7]\n",
    "    t_val = 0\n",
    "    t_weight =0\n",
    "    for i in range(p_cnt):\n",
    "        k = int(bitstr[i])\n",
    "        t_weight += k * weight[i]\n",
    "        t_val  += k * cost[i]\n",
    "       \n",
    "    if t_weight > 12 :\n",
    "        return 0 \n",
    "    return  t_val\n",
    "\n",
    "\n",
    "print(Fitness(\"0111\"))"
   ]
  },
  {
   "cell_type": "code",
   "execution_count": 60,
   "metadata": {},
   "outputs": [],
   "source": [
    "# Select Papernt\n",
    "def Select(pop,fit):\n",
    "    sortedpop = sorted(zip(pop,fit),key=lambda x:x[1],reverse=True)\n",
    "    return (sortedpop[0][0],sortedpop[1][0])\n"
   ]
  },
  {
   "cell_type": "code",
   "execution_count": 61,
   "metadata": {},
   "outputs": [
    {
     "name": "stdout",
     "output_type": "stream",
     "text": [
      "0001\n"
     ]
    }
   ],
   "source": [
    "#Cross Over\n",
    "\n",
    "def crossover(p1,p2):\n",
    "    i = random.randint(0,len(p1)) #[1,1,0, 1] i=2\n",
    "    child = list(p1)\n",
    "    child[:i] = list(p2[:i])\n",
    "    return \"\".join(child)\n",
    "\n",
    "print(crossover(\"1111\",\"0000\"))"
   ]
  },
  {
   "cell_type": "code",
   "execution_count": 62,
   "metadata": {},
   "outputs": [
    {
     "name": "stdout",
     "output_type": "stream",
     "text": [
      "0101\n"
     ]
    }
   ],
   "source": [
    "# Mutate\n",
    "\n",
    "def mutate(bitstr):\n",
    "    bitstr = list(bitstr)\n",
    "    i = random.randint(0,len(bitstr)-1)\n",
    "    if bitstr[i] == '1':\n",
    "        bitstr[i] = '0'\n",
    "        return  \"\".join(bitstr)\n",
    "    bitstr[i] = '1'\n",
    "    return \"\".join(bitstr)\n",
    "\n",
    "print(mutate(\"1101\"))"
   ]
  },
  {
   "cell_type": "code",
   "execution_count": 70,
   "metadata": {},
   "outputs": [
    {
     "name": "stdout",
     "output_type": "stream",
     "text": [
      "Generation: 0 Best_Fit 17\n",
      "Generation: 1 Best_Fit 12\n",
      "Generation: 2 Best_Fit 12\n",
      "Generation: 3 Best_Fit 12\n",
      "Generation: 4 Best_Fit 22\n",
      "Generation: 5 Best_Fit 24\n",
      "Generation: 6 Best_Fit 24\n",
      "Generation: 7 Best_Fit 22\n",
      "Generation: 8 Best_Fit 22\n",
      "Generation: 9 Best_Fit 22\n",
      "Generation: 10 Best_Fit 22\n",
      "Generation: 11 Best_Fit 22\n",
      "Generation: 12 Best_Fit 22\n",
      "Generation: 13 Best_Fit 22\n",
      "Generation: 14 Best_Fit 22\n",
      "Generation: 15 Best_Fit 22\n",
      "Generation: 16 Best_Fit 22\n",
      "Generation: 17 Best_Fit 22\n",
      "Generation: 18 Best_Fit 22\n",
      "Generation: 19 Best_Fit 22\n",
      "Generation: 20 Best_Fit 22\n",
      "Generation: 21 Best_Fit 22\n",
      "Generation: 22 Best_Fit 22\n",
      "Generation: 23 Best_Fit 22\n",
      "Generation: 24 Best_Fit 22\n",
      "Generation: 25 Best_Fit 22\n",
      "Generation: 26 Best_Fit 22\n",
      "Generation: 27 Best_Fit 22\n",
      "Generation: 28 Best_Fit 22\n",
      "Generation: 29 Best_Fit 22\n",
      "Generation: 30 Best_Fit 22\n",
      "Generation: 31 Best_Fit 17\n",
      "Generation: 32 Best_Fit 17\n",
      "Generation: 33 Best_Fit 17\n",
      "Generation: 34 Best_Fit 17\n",
      "Generation: 35 Best_Fit 17\n",
      "Generation: 36 Best_Fit 17\n",
      "Generation: 37 Best_Fit 17\n",
      "Generation: 38 Best_Fit 17\n",
      "Generation: 39 Best_Fit 22\n",
      "Generation: 40 Best_Fit 17\n",
      "Generation: 41 Best_Fit 22\n",
      "Generation: 42 Best_Fit 22\n",
      "Generation: 43 Best_Fit 22\n",
      "Generation: 44 Best_Fit 22\n",
      "Generation: 45 Best_Fit 17\n",
      "Generation: 46 Best_Fit 17\n",
      "Generation: 47 Best_Fit 22\n",
      "Generation: 48 Best_Fit 17\n",
      "Generation: 49 Best_Fit 22\n",
      "Generation: 50 Best_Fit 22\n",
      "Generation: 51 Best_Fit 22\n",
      "Generation: 52 Best_Fit 22\n",
      "Generation: 53 Best_Fit 22\n",
      "Generation: 54 Best_Fit 22\n",
      "Generation: 55 Best_Fit 22\n",
      "Generation: 56 Best_Fit 22\n",
      "Generation: 57 Best_Fit 22\n",
      "Generation: 58 Best_Fit 22\n",
      "Generation: 59 Best_Fit 22\n",
      "Generation: 60 Best_Fit 22\n",
      "Generation: 61 Best_Fit 22\n",
      "Generation: 62 Best_Fit 22\n",
      "Generation: 63 Best_Fit 22\n",
      "Generation: 64 Best_Fit 22\n",
      "Generation: 65 Best_Fit 22\n",
      "Generation: 66 Best_Fit 22\n",
      "Generation: 67 Best_Fit 22\n",
      "Generation: 68 Best_Fit 22\n",
      "Generation: 69 Best_Fit 22\n",
      "Generation: 70 Best_Fit 22\n",
      "Generation: 71 Best_Fit 22\n",
      "Generation: 72 Best_Fit 22\n",
      "Generation: 73 Best_Fit 22\n",
      "Generation: 74 Best_Fit 22\n",
      "Generation: 75 Best_Fit 17\n",
      "Generation: 76 Best_Fit 17\n",
      "Generation: 77 Best_Fit 22\n",
      "Generation: 78 Best_Fit 22\n",
      "Generation: 79 Best_Fit 22\n",
      "Generation: 80 Best_Fit 22\n",
      "Generation: 81 Best_Fit 22\n",
      "Generation: 82 Best_Fit 22\n",
      "Generation: 83 Best_Fit 22\n",
      "Generation: 84 Best_Fit 22\n",
      "Generation: 85 Best_Fit 22\n",
      "Generation: 86 Best_Fit 22\n",
      "Generation: 87 Best_Fit 22\n",
      "Generation: 88 Best_Fit 22\n",
      "Generation: 89 Best_Fit 22\n",
      "Generation: 90 Best_Fit 22\n",
      "Generation: 91 Best_Fit 22\n",
      "Generation: 92 Best_Fit 22\n",
      "Generation: 93 Best_Fit 22\n",
      "Generation: 94 Best_Fit 22\n",
      "Generation: 95 Best_Fit 22\n",
      "Generation: 96 Best_Fit 22\n",
      "Generation: 97 Best_Fit 22\n",
      "Generation: 98 Best_Fit 22\n",
      "Generation: 99 Best_Fit 22\n",
      " Final Best_Fit 0111 Cost : 22\n"
     ]
    }
   ],
   "source": [
    "#Genetic Algo\n",
    "\n",
    "population = Generate_Population()\n",
    "max_gen = 100\n",
    "mut_rate = 0.4\n",
    "for gen in range(max_gen):\n",
    "    Fitness_score = [Fitness(i) for i in population]\n",
    "    best_fit = max(Fitness_score)    \n",
    "    print(f\"Generation: {gen} Best_Fit {best_fit}\")\n",
    "    \n",
    "    new_pop = []\n",
    "    \n",
    "    for i in range(p_cnt):\n",
    "        parents = Select(population,Fitness_score)\n",
    "        p1,p2 = parents\n",
    "        child = crossover(p1,p2)\n",
    "        if random.random() <mut_rate:\n",
    "            child = mutate(child)\n",
    "        new_pop.append(child)\n",
    "    population = new_pop\n",
    "    \n",
    "    \n",
    "\n",
    "\n",
    "best_individual = max(population, key=Fitness)\n",
    "print(f\" Final Best_Fit {best_individual} Cost : {Fitness(best_individual)}\")"
   ]
  }
 ],
 "metadata": {
  "kernelspec": {
   "display_name": "Python 3",
   "language": "python",
   "name": "python3"
  },
  "language_info": {
   "codemirror_mode": {
    "name": "ipython",
    "version": 3
   },
   "file_extension": ".py",
   "mimetype": "text/x-python",
   "name": "python",
   "nbconvert_exporter": "python",
   "pygments_lexer": "ipython3",
   "version": "3.12.4"
  }
 },
 "nbformat": 4,
 "nbformat_minor": 2
}
