{
 "cells": [
  {
   "cell_type": "code",
   "execution_count": 1,
   "id": "a72161e4",
   "metadata": {},
   "outputs": [],
   "source": [
    "def alpha_beta(cards, left, right, is_max, alpha, beta):\n",
    "    if left > right:\n",
    "        return 0\n",
    "\n",
    "    if is_max:\n",
    "        max_score = float('-inf')\n",
    "        # Try picking left\n",
    "        score_left = cards[left] + alpha_beta(cards, left + 1, right, False, alpha, beta)\n",
    "        max_score = max(max_score, score_left)\n",
    "        alpha = max(alpha, max_score)\n",
    "        if beta <= alpha:\n",
    "            return max_score\n",
    "\n",
    "        # Try picking right\n",
    "        score_right = cards[right] + alpha_beta(cards, left, right - 1, False, alpha, beta)\n",
    "        max_score = max(max_score, score_right)\n",
    "        alpha = max(alpha, max_score)\n",
    "        return max_score\n",
    "    else:\n",
    "        # min choose directly lowest \n",
    "        if cards[left] < cards[right]:\n",
    "            return alpha_beta(cards, left + 1, right, True, alpha, beta)\n",
    "        else:\n",
    "            return alpha_beta(cards, left, right - 1, True, alpha, beta)\n",
    "\n"
   ]
  },
  {
   "cell_type": "code",
   "execution_count": 2,
   "id": "8c93c360",
   "metadata": {},
   "outputs": [],
   "source": [
    "def max_move(cards):\n",
    "    left = 0\n",
    "    right = len(cards) - 1\n",
    "    max_score = float('-inf')\n",
    "    move = None\n",
    "\n",
    "    # Try picking left\n",
    "    score_left = cards[left] + alpha_beta(cards, left + 1, right, False, float('-inf'), float('inf'))\n",
    "    if score_left > max_score:\n",
    "        max_score = score_left\n",
    "        move = 'left'\n",
    "\n",
    "    # Try picking right\n",
    "    score_right = cards[right] + alpha_beta(cards, left, right - 1, False, float('-inf'), float('inf'))\n",
    "    if score_right > max_score:\n",
    "        max_score = score_right\n",
    "        move = 'right'\n",
    "\n",
    "    return move"
   ]
  },
  {
   "cell_type": "code",
   "execution_count": 3,
   "id": "c1fb8e9f",
   "metadata": {},
   "outputs": [
    {
     "name": "stdout",
     "output_type": "stream",
     "text": [
      "Initial Cards: [4, 10, 6, 2, 9, 5]\n",
      "Max picks 5, Remaining Cards: [4, 10, 6, 2, 9]\n",
      "Min picks 4, Remaining Cards: [10, 6, 2, 9]\n",
      "Max picks 10, Remaining Cards: [6, 2, 9]\n",
      "Min picks 6, Remaining Cards: [2, 9]\n",
      "Max picks 9, Remaining Cards: [2]\n",
      "Min picks 2, Remaining Cards: []\n",
      "Final Scores - Max: 24, Min: 12\n",
      "Winner: Max\n"
     ]
    }
   ],
   "source": [
    "def play_game(cards):\n",
    "    print(f\"Initial Cards: {cards}\")\n",
    "    max_score = 0\n",
    "    min_score = 0\n",
    "    turn = 'max'\n",
    "\n",
    "    while cards:\n",
    "        if turn == 'max':\n",
    "            move = max_move(cards)\n",
    "            if move == 'left':\n",
    "                picked = cards.pop(0)\n",
    "            else:\n",
    "                picked = cards.pop()\n",
    "            max_score += picked\n",
    "            print(f\"Max picks {picked}, Remaining Cards: {cards}\")\n",
    "            turn = 'min'\n",
    "        else:\n",
    "            # Min picks the smaller of two ends\n",
    "            if len(cards) == 1 or cards[0] < cards[-1]:\n",
    "                picked = cards.pop(0)\n",
    "            else:\n",
    "                picked = cards.pop()\n",
    "            min_score += picked\n",
    "            print(f\"Min picks {picked}, Remaining Cards: {cards}\")\n",
    "            turn = 'max'\n",
    "\n",
    "    print(f\"Final Scores - Max: {max_score}, Min: {min_score}\")\n",
    "    if max_score > min_score:\n",
    "        print(\"Winner: Max\")\n",
    "    elif min_score > max_score:\n",
    "        print(\"Winner: Min\")\n",
    "    else:\n",
    "        print(\"It's a Tie!\")\n",
    "\n",
    "cards = [4, 10, 6, 2, 9, 5]\n",
    "play_game(cards)"
   ]
  }
 ],
 "metadata": {
  "kernelspec": {
   "display_name": "Python 3",
   "language": "python",
   "name": "python3"
  },
  "language_info": {
   "codemirror_mode": {
    "name": "ipython",
    "version": 3
   },
   "file_extension": ".py",
   "mimetype": "text/x-python",
   "name": "python",
   "nbconvert_exporter": "python",
   "pygments_lexer": "ipython3",
   "version": "3.12.4"
  }
 },
 "nbformat": 4,
 "nbformat_minor": 5
}
