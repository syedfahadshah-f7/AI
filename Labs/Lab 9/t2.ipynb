{
 "cells": [
  {
   "cell_type": "code",
   "execution_count": 1,
   "id": "5cc7f9fb",
   "metadata": {},
   "outputs": [],
   "source": [
    "from sklearn.neighbors import KNeighborsClassifier\n",
    "import pandas as pd\n",
    "import random\n",
    "import numpy as np\n",
    "import matplotlib.pyplot as plt\n",
    "import seaborn as sns\n",
    "from sklearn.preprocessing import LabelEncoder,StandardScaler\n",
    "from sklearn.metrics import accuracy_score,confusion_matrix,recall_score,precision_score\n",
    "from sklearn.model_selection import KFold,train_test_split,LeaveOneOut\n",
    "from sklearn.svm import SVC"
   ]
  },
  {
   "cell_type": "code",
   "execution_count": 2,
   "id": "73e1f5c8",
   "metadata": {},
   "outputs": [],
   "source": [
    "df = pd.read_csv(\"synthetic_email_spam_dataset.csv\")\n",
    "# display(df.head())\n",
    "\n",
    "# print(df.info())\n",
    "df_encoded = pd.get_dummies(df,columns=[\"sender_domain\"],drop_first=True)\n",
    "# print(df_encoded.info())\n",
    "# display(df_encoded.head())\n",
    "# print(df.isnull().sum())"
   ]
  },
  {
   "cell_type": "code",
   "execution_count": 3,
   "id": "ab38939c",
   "metadata": {},
   "outputs": [
    {
     "name": "stdout",
     "output_type": "stream",
     "text": [
      "Accuracy Score: 0.5333333333333333\n",
      "Recall Score: 0.26666666666666666\n",
      "Precision Score: 0.5\n"
     ]
    },
    {
     "name": "stderr",
     "output_type": "stream",
     "text": [
      "c:\\Users\\fahad\\AppData\\Local\\Programs\\Python\\Python312\\Lib\\site-packages\\sklearn\\metrics\\_classification.py:1565: UndefinedMetricWarning: Recall is ill-defined and being set to 0.0 in labels with no true samples. Use `zero_division` parameter to control this behavior.\n",
      "  _warn_prf(average, modifier, f\"{metric.capitalize()} is\", len(result))\n"
     ]
    }
   ],
   "source": [
    "svm = SVC(kernel=\"rbf\",C=1,gamma=\"scale\")\n",
    "y = df_encoded.pop(\"is_spam\")\n",
    "scalar = StandardScaler()\n",
    "kf = KFold(n_splits=10,shuffle=True,random_state=42)\n",
    "accuracy = []\n",
    "for tr_idx,ts_idx in kf.split(df_encoded):\n",
    "    X_train,X_test = df_encoded.iloc[tr_idx],df_encoded.iloc[ts_idx]\n",
    "    Y_train,Y_test = y.iloc[tr_idx],y.iloc[ts_idx]\n",
    "    \n",
    "    X_train = scalar.fit_transform(X_train)\n",
    "    X_test = scalar.transform(X_test)\n",
    "    svm.fit(X_train,Y_train)\n",
    "    Y_pred = svm.predict(X_test)\n",
    "    \n",
    "    acc= accuracy_score(Y_pred,Y_test)\n",
    "    accuracy.append(acc)\n",
    "\n",
    "print(f\"Accuracy Score: {accuracy_score(Y_pred,Y_test)}\")\n",
    "print(f\"Recall Score: {recall_score(Y_pred,Y_test,average=\"macro\")}\")\n",
    "print(f\"Precision Score: {precision_score(Y_pred,Y_test,average=\"macro\")}\")\n"
   ]
  },
  {
   "cell_type": "code",
   "execution_count": 4,
   "id": "9d27ec80",
   "metadata": {},
   "outputs": [
    {
     "name": "stdout",
     "output_type": "stream",
     "text": [
      "Prediction for unseen email: Not Spam\n"
     ]
    },
    {
     "name": "stderr",
     "output_type": "stream",
     "text": [
      "C:\\Users\\fahad\\AppData\\Local\\Temp\\ipykernel_13112\\1450348288.py:17: PerformanceWarning: DataFrame is highly fragmented.  This is usually the result of calling `frame.insert` many times, which has poor performance.  Consider joining all columns at once using pd.concat(axis=1) instead. To get a de-fragmented frame, use `newframe = frame.copy()`\n",
      "  new_df_encoded[col] = 0\n",
      "C:\\Users\\fahad\\AppData\\Local\\Temp\\ipykernel_13112\\1450348288.py:17: PerformanceWarning: DataFrame is highly fragmented.  This is usually the result of calling `frame.insert` many times, which has poor performance.  Consider joining all columns at once using pd.concat(axis=1) instead. To get a de-fragmented frame, use `newframe = frame.copy()`\n",
      "  new_df_encoded[col] = 0\n",
      "C:\\Users\\fahad\\AppData\\Local\\Temp\\ipykernel_13112\\1450348288.py:17: PerformanceWarning: DataFrame is highly fragmented.  This is usually the result of calling `frame.insert` many times, which has poor performance.  Consider joining all columns at once using pd.concat(axis=1) instead. To get a de-fragmented frame, use `newframe = frame.copy()`\n",
      "  new_df_encoded[col] = 0\n",
      "C:\\Users\\fahad\\AppData\\Local\\Temp\\ipykernel_13112\\1450348288.py:17: PerformanceWarning: DataFrame is highly fragmented.  This is usually the result of calling `frame.insert` many times, which has poor performance.  Consider joining all columns at once using pd.concat(axis=1) instead. To get a de-fragmented frame, use `newframe = frame.copy()`\n",
      "  new_df_encoded[col] = 0\n",
      "C:\\Users\\fahad\\AppData\\Local\\Temp\\ipykernel_13112\\1450348288.py:17: PerformanceWarning: DataFrame is highly fragmented.  This is usually the result of calling `frame.insert` many times, which has poor performance.  Consider joining all columns at once using pd.concat(axis=1) instead. To get a de-fragmented frame, use `newframe = frame.copy()`\n",
      "  new_df_encoded[col] = 0\n",
      "C:\\Users\\fahad\\AppData\\Local\\Temp\\ipykernel_13112\\1450348288.py:17: PerformanceWarning: DataFrame is highly fragmented.  This is usually the result of calling `frame.insert` many times, which has poor performance.  Consider joining all columns at once using pd.concat(axis=1) instead. To get a de-fragmented frame, use `newframe = frame.copy()`\n",
      "  new_df_encoded[col] = 0\n",
      "C:\\Users\\fahad\\AppData\\Local\\Temp\\ipykernel_13112\\1450348288.py:17: PerformanceWarning: DataFrame is highly fragmented.  This is usually the result of calling `frame.insert` many times, which has poor performance.  Consider joining all columns at once using pd.concat(axis=1) instead. To get a de-fragmented frame, use `newframe = frame.copy()`\n",
      "  new_df_encoded[col] = 0\n",
      "C:\\Users\\fahad\\AppData\\Local\\Temp\\ipykernel_13112\\1450348288.py:17: PerformanceWarning: DataFrame is highly fragmented.  This is usually the result of calling `frame.insert` many times, which has poor performance.  Consider joining all columns at once using pd.concat(axis=1) instead. To get a de-fragmented frame, use `newframe = frame.copy()`\n",
      "  new_df_encoded[col] = 0\n",
      "C:\\Users\\fahad\\AppData\\Local\\Temp\\ipykernel_13112\\1450348288.py:17: PerformanceWarning: DataFrame is highly fragmented.  This is usually the result of calling `frame.insert` many times, which has poor performance.  Consider joining all columns at once using pd.concat(axis=1) instead. To get a de-fragmented frame, use `newframe = frame.copy()`\n",
      "  new_df_encoded[col] = 0\n",
      "C:\\Users\\fahad\\AppData\\Local\\Temp\\ipykernel_13112\\1450348288.py:17: PerformanceWarning: DataFrame is highly fragmented.  This is usually the result of calling `frame.insert` many times, which has poor performance.  Consider joining all columns at once using pd.concat(axis=1) instead. To get a de-fragmented frame, use `newframe = frame.copy()`\n",
      "  new_df_encoded[col] = 0\n",
      "C:\\Users\\fahad\\AppData\\Local\\Temp\\ipykernel_13112\\1450348288.py:17: PerformanceWarning: DataFrame is highly fragmented.  This is usually the result of calling `frame.insert` many times, which has poor performance.  Consider joining all columns at once using pd.concat(axis=1) instead. To get a de-fragmented frame, use `newframe = frame.copy()`\n",
      "  new_df_encoded[col] = 0\n",
      "C:\\Users\\fahad\\AppData\\Local\\Temp\\ipykernel_13112\\1450348288.py:17: PerformanceWarning: DataFrame is highly fragmented.  This is usually the result of calling `frame.insert` many times, which has poor performance.  Consider joining all columns at once using pd.concat(axis=1) instead. To get a de-fragmented frame, use `newframe = frame.copy()`\n",
      "  new_df_encoded[col] = 0\n",
      "C:\\Users\\fahad\\AppData\\Local\\Temp\\ipykernel_13112\\1450348288.py:17: PerformanceWarning: DataFrame is highly fragmented.  This is usually the result of calling `frame.insert` many times, which has poor performance.  Consider joining all columns at once using pd.concat(axis=1) instead. To get a de-fragmented frame, use `newframe = frame.copy()`\n",
      "  new_df_encoded[col] = 0\n",
      "C:\\Users\\fahad\\AppData\\Local\\Temp\\ipykernel_13112\\1450348288.py:17: PerformanceWarning: DataFrame is highly fragmented.  This is usually the result of calling `frame.insert` many times, which has poor performance.  Consider joining all columns at once using pd.concat(axis=1) instead. To get a de-fragmented frame, use `newframe = frame.copy()`\n",
      "  new_df_encoded[col] = 0\n",
      "C:\\Users\\fahad\\AppData\\Local\\Temp\\ipykernel_13112\\1450348288.py:17: PerformanceWarning: DataFrame is highly fragmented.  This is usually the result of calling `frame.insert` many times, which has poor performance.  Consider joining all columns at once using pd.concat(axis=1) instead. To get a de-fragmented frame, use `newframe = frame.copy()`\n",
      "  new_df_encoded[col] = 0\n",
      "C:\\Users\\fahad\\AppData\\Local\\Temp\\ipykernel_13112\\1450348288.py:17: PerformanceWarning: DataFrame is highly fragmented.  This is usually the result of calling `frame.insert` many times, which has poor performance.  Consider joining all columns at once using pd.concat(axis=1) instead. To get a de-fragmented frame, use `newframe = frame.copy()`\n",
      "  new_df_encoded[col] = 0\n",
      "C:\\Users\\fahad\\AppData\\Local\\Temp\\ipykernel_13112\\1450348288.py:17: PerformanceWarning: DataFrame is highly fragmented.  This is usually the result of calling `frame.insert` many times, which has poor performance.  Consider joining all columns at once using pd.concat(axis=1) instead. To get a de-fragmented frame, use `newframe = frame.copy()`\n",
      "  new_df_encoded[col] = 0\n",
      "C:\\Users\\fahad\\AppData\\Local\\Temp\\ipykernel_13112\\1450348288.py:17: PerformanceWarning: DataFrame is highly fragmented.  This is usually the result of calling `frame.insert` many times, which has poor performance.  Consider joining all columns at once using pd.concat(axis=1) instead. To get a de-fragmented frame, use `newframe = frame.copy()`\n",
      "  new_df_encoded[col] = 0\n",
      "C:\\Users\\fahad\\AppData\\Local\\Temp\\ipykernel_13112\\1450348288.py:17: PerformanceWarning: DataFrame is highly fragmented.  This is usually the result of calling `frame.insert` many times, which has poor performance.  Consider joining all columns at once using pd.concat(axis=1) instead. To get a de-fragmented frame, use `newframe = frame.copy()`\n",
      "  new_df_encoded[col] = 0\n",
      "C:\\Users\\fahad\\AppData\\Local\\Temp\\ipykernel_13112\\1450348288.py:17: PerformanceWarning: DataFrame is highly fragmented.  This is usually the result of calling `frame.insert` many times, which has poor performance.  Consider joining all columns at once using pd.concat(axis=1) instead. To get a de-fragmented frame, use `newframe = frame.copy()`\n",
      "  new_df_encoded[col] = 0\n",
      "C:\\Users\\fahad\\AppData\\Local\\Temp\\ipykernel_13112\\1450348288.py:17: PerformanceWarning: DataFrame is highly fragmented.  This is usually the result of calling `frame.insert` many times, which has poor performance.  Consider joining all columns at once using pd.concat(axis=1) instead. To get a de-fragmented frame, use `newframe = frame.copy()`\n",
      "  new_df_encoded[col] = 0\n",
      "C:\\Users\\fahad\\AppData\\Local\\Temp\\ipykernel_13112\\1450348288.py:17: PerformanceWarning: DataFrame is highly fragmented.  This is usually the result of calling `frame.insert` many times, which has poor performance.  Consider joining all columns at once using pd.concat(axis=1) instead. To get a de-fragmented frame, use `newframe = frame.copy()`\n",
      "  new_df_encoded[col] = 0\n",
      "C:\\Users\\fahad\\AppData\\Local\\Temp\\ipykernel_13112\\1450348288.py:17: PerformanceWarning: DataFrame is highly fragmented.  This is usually the result of calling `frame.insert` many times, which has poor performance.  Consider joining all columns at once using pd.concat(axis=1) instead. To get a de-fragmented frame, use `newframe = frame.copy()`\n",
      "  new_df_encoded[col] = 0\n",
      "C:\\Users\\fahad\\AppData\\Local\\Temp\\ipykernel_13112\\1450348288.py:17: PerformanceWarning: DataFrame is highly fragmented.  This is usually the result of calling `frame.insert` many times, which has poor performance.  Consider joining all columns at once using pd.concat(axis=1) instead. To get a de-fragmented frame, use `newframe = frame.copy()`\n",
      "  new_df_encoded[col] = 0\n",
      "C:\\Users\\fahad\\AppData\\Local\\Temp\\ipykernel_13112\\1450348288.py:17: PerformanceWarning: DataFrame is highly fragmented.  This is usually the result of calling `frame.insert` many times, which has poor performance.  Consider joining all columns at once using pd.concat(axis=1) instead. To get a de-fragmented frame, use `newframe = frame.copy()`\n",
      "  new_df_encoded[col] = 0\n",
      "C:\\Users\\fahad\\AppData\\Local\\Temp\\ipykernel_13112\\1450348288.py:17: PerformanceWarning: DataFrame is highly fragmented.  This is usually the result of calling `frame.insert` many times, which has poor performance.  Consider joining all columns at once using pd.concat(axis=1) instead. To get a de-fragmented frame, use `newframe = frame.copy()`\n",
      "  new_df_encoded[col] = 0\n",
      "C:\\Users\\fahad\\AppData\\Local\\Temp\\ipykernel_13112\\1450348288.py:17: PerformanceWarning: DataFrame is highly fragmented.  This is usually the result of calling `frame.insert` many times, which has poor performance.  Consider joining all columns at once using pd.concat(axis=1) instead. To get a de-fragmented frame, use `newframe = frame.copy()`\n",
      "  new_df_encoded[col] = 0\n",
      "C:\\Users\\fahad\\AppData\\Local\\Temp\\ipykernel_13112\\1450348288.py:17: PerformanceWarning: DataFrame is highly fragmented.  This is usually the result of calling `frame.insert` many times, which has poor performance.  Consider joining all columns at once using pd.concat(axis=1) instead. To get a de-fragmented frame, use `newframe = frame.copy()`\n",
      "  new_df_encoded[col] = 0\n",
      "C:\\Users\\fahad\\AppData\\Local\\Temp\\ipykernel_13112\\1450348288.py:17: PerformanceWarning: DataFrame is highly fragmented.  This is usually the result of calling `frame.insert` many times, which has poor performance.  Consider joining all columns at once using pd.concat(axis=1) instead. To get a de-fragmented frame, use `newframe = frame.copy()`\n",
      "  new_df_encoded[col] = 0\n",
      "C:\\Users\\fahad\\AppData\\Local\\Temp\\ipykernel_13112\\1450348288.py:17: PerformanceWarning: DataFrame is highly fragmented.  This is usually the result of calling `frame.insert` many times, which has poor performance.  Consider joining all columns at once using pd.concat(axis=1) instead. To get a de-fragmented frame, use `newframe = frame.copy()`\n",
      "  new_df_encoded[col] = 0\n",
      "C:\\Users\\fahad\\AppData\\Local\\Temp\\ipykernel_13112\\1450348288.py:17: PerformanceWarning: DataFrame is highly fragmented.  This is usually the result of calling `frame.insert` many times, which has poor performance.  Consider joining all columns at once using pd.concat(axis=1) instead. To get a de-fragmented frame, use `newframe = frame.copy()`\n",
      "  new_df_encoded[col] = 0\n",
      "C:\\Users\\fahad\\AppData\\Local\\Temp\\ipykernel_13112\\1450348288.py:17: PerformanceWarning: DataFrame is highly fragmented.  This is usually the result of calling `frame.insert` many times, which has poor performance.  Consider joining all columns at once using pd.concat(axis=1) instead. To get a de-fragmented frame, use `newframe = frame.copy()`\n",
      "  new_df_encoded[col] = 0\n",
      "C:\\Users\\fahad\\AppData\\Local\\Temp\\ipykernel_13112\\1450348288.py:17: PerformanceWarning: DataFrame is highly fragmented.  This is usually the result of calling `frame.insert` many times, which has poor performance.  Consider joining all columns at once using pd.concat(axis=1) instead. To get a de-fragmented frame, use `newframe = frame.copy()`\n",
      "  new_df_encoded[col] = 0\n",
      "C:\\Users\\fahad\\AppData\\Local\\Temp\\ipykernel_13112\\1450348288.py:17: PerformanceWarning: DataFrame is highly fragmented.  This is usually the result of calling `frame.insert` many times, which has poor performance.  Consider joining all columns at once using pd.concat(axis=1) instead. To get a de-fragmented frame, use `newframe = frame.copy()`\n",
      "  new_df_encoded[col] = 0\n",
      "C:\\Users\\fahad\\AppData\\Local\\Temp\\ipykernel_13112\\1450348288.py:17: PerformanceWarning: DataFrame is highly fragmented.  This is usually the result of calling `frame.insert` many times, which has poor performance.  Consider joining all columns at once using pd.concat(axis=1) instead. To get a de-fragmented frame, use `newframe = frame.copy()`\n",
      "  new_df_encoded[col] = 0\n",
      "C:\\Users\\fahad\\AppData\\Local\\Temp\\ipykernel_13112\\1450348288.py:17: PerformanceWarning: DataFrame is highly fragmented.  This is usually the result of calling `frame.insert` many times, which has poor performance.  Consider joining all columns at once using pd.concat(axis=1) instead. To get a de-fragmented frame, use `newframe = frame.copy()`\n",
      "  new_df_encoded[col] = 0\n",
      "C:\\Users\\fahad\\AppData\\Local\\Temp\\ipykernel_13112\\1450348288.py:17: PerformanceWarning: DataFrame is highly fragmented.  This is usually the result of calling `frame.insert` many times, which has poor performance.  Consider joining all columns at once using pd.concat(axis=1) instead. To get a de-fragmented frame, use `newframe = frame.copy()`\n",
      "  new_df_encoded[col] = 0\n",
      "C:\\Users\\fahad\\AppData\\Local\\Temp\\ipykernel_13112\\1450348288.py:17: PerformanceWarning: DataFrame is highly fragmented.  This is usually the result of calling `frame.insert` many times, which has poor performance.  Consider joining all columns at once using pd.concat(axis=1) instead. To get a de-fragmented frame, use `newframe = frame.copy()`\n",
      "  new_df_encoded[col] = 0\n",
      "C:\\Users\\fahad\\AppData\\Local\\Temp\\ipykernel_13112\\1450348288.py:17: PerformanceWarning: DataFrame is highly fragmented.  This is usually the result of calling `frame.insert` many times, which has poor performance.  Consider joining all columns at once using pd.concat(axis=1) instead. To get a de-fragmented frame, use `newframe = frame.copy()`\n",
      "  new_df_encoded[col] = 0\n",
      "C:\\Users\\fahad\\AppData\\Local\\Temp\\ipykernel_13112\\1450348288.py:17: PerformanceWarning: DataFrame is highly fragmented.  This is usually the result of calling `frame.insert` many times, which has poor performance.  Consider joining all columns at once using pd.concat(axis=1) instead. To get a de-fragmented frame, use `newframe = frame.copy()`\n",
      "  new_df_encoded[col] = 0\n",
      "C:\\Users\\fahad\\AppData\\Local\\Temp\\ipykernel_13112\\1450348288.py:17: PerformanceWarning: DataFrame is highly fragmented.  This is usually the result of calling `frame.insert` many times, which has poor performance.  Consider joining all columns at once using pd.concat(axis=1) instead. To get a de-fragmented frame, use `newframe = frame.copy()`\n",
      "  new_df_encoded[col] = 0\n",
      "C:\\Users\\fahad\\AppData\\Local\\Temp\\ipykernel_13112\\1450348288.py:17: PerformanceWarning: DataFrame is highly fragmented.  This is usually the result of calling `frame.insert` many times, which has poor performance.  Consider joining all columns at once using pd.concat(axis=1) instead. To get a de-fragmented frame, use `newframe = frame.copy()`\n",
      "  new_df_encoded[col] = 0\n",
      "C:\\Users\\fahad\\AppData\\Local\\Temp\\ipykernel_13112\\1450348288.py:17: PerformanceWarning: DataFrame is highly fragmented.  This is usually the result of calling `frame.insert` many times, which has poor performance.  Consider joining all columns at once using pd.concat(axis=1) instead. To get a de-fragmented frame, use `newframe = frame.copy()`\n",
      "  new_df_encoded[col] = 0\n",
      "C:\\Users\\fahad\\AppData\\Local\\Temp\\ipykernel_13112\\1450348288.py:17: PerformanceWarning: DataFrame is highly fragmented.  This is usually the result of calling `frame.insert` many times, which has poor performance.  Consider joining all columns at once using pd.concat(axis=1) instead. To get a de-fragmented frame, use `newframe = frame.copy()`\n",
      "  new_df_encoded[col] = 0\n",
      "C:\\Users\\fahad\\AppData\\Local\\Temp\\ipykernel_13112\\1450348288.py:17: PerformanceWarning: DataFrame is highly fragmented.  This is usually the result of calling `frame.insert` many times, which has poor performance.  Consider joining all columns at once using pd.concat(axis=1) instead. To get a de-fragmented frame, use `newframe = frame.copy()`\n",
      "  new_df_encoded[col] = 0\n",
      "C:\\Users\\fahad\\AppData\\Local\\Temp\\ipykernel_13112\\1450348288.py:17: PerformanceWarning: DataFrame is highly fragmented.  This is usually the result of calling `frame.insert` many times, which has poor performance.  Consider joining all columns at once using pd.concat(axis=1) instead. To get a de-fragmented frame, use `newframe = frame.copy()`\n",
      "  new_df_encoded[col] = 0\n"
     ]
    }
   ],
   "source": [
    "# New unseen data\n",
    "new_data = {\n",
    "    \"word_freq_free\": [0.05],\n",
    "    \"word_freq_win\": [0.01],\n",
    "    \"word_freq_offer\": [0.00],\n",
    "    \"email_length\": [120],\n",
    "    \"num_hyperlinks\": [1],\n",
    "    \"sender_domain\": [\"newdomain@unseen.com\"]\n",
    "}\n",
    "\n",
    "new_df = pd.DataFrame(new_data)\n",
    "\n",
    "new_df_encoded = new_df.drop(columns=[\"sender_domain\"])\n",
    "\n",
    "for col in df_encoded.columns:\n",
    "    if col not in new_df_encoded.columns:\n",
    "        new_df_encoded[col] = 0 \n",
    "\n",
    "# Reorder the columns to match the training data column order\n",
    "new_df_encoded = new_df_encoded[df_encoded.columns]\n",
    "\n",
    "# Preprocess the new data (standardize using the saved scaler)\n",
    "new_df_scaled = scalar.transform(new_df_encoded)  \n",
    "\n",
    "prediction = svm.predict(new_df_scaled)\n",
    "print(f\"Prediction for unseen email: {'Spam' if prediction[0] == 1 else 'Not Spam'}\")\n"
   ]
  }
 ],
 "metadata": {
  "kernelspec": {
   "display_name": "Python 3",
   "language": "python",
   "name": "python3"
  },
  "language_info": {
   "codemirror_mode": {
    "name": "ipython",
    "version": 3
   },
   "file_extension": ".py",
   "mimetype": "text/x-python",
   "name": "python",
   "nbconvert_exporter": "python",
   "pygments_lexer": "ipython3",
   "version": "3.12.4"
  }
 },
 "nbformat": 4,
 "nbformat_minor": 5
}
