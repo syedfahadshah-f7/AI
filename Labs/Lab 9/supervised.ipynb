{
 "cells": [
  {
   "cell_type": "code",
   "execution_count": 8,
   "id": "3f9a6642",
   "metadata": {},
   "outputs": [],
   "source": [
    "import pandas as pd\n",
    "import numpy as np\n",
    "import random \n",
    "import matplotlib.pyplot as plt\n",
    "import seaborn as snb\n",
    "from sklearn.linear_model import LinearRegression\n",
    "from sklearn.preprocessing import LabelEncoder\n",
    "from sklearn.metrics import accuracy_score,precision_score,recall_score,f1_score,confusion_matrix\n",
    "from sklearn.neighbors import KNeighborsClassifier\n",
    "from sklearn.model_selection import train_test_split,KFold,LeaveOneOut\n",
    "from sklearn.tree import DecisionTreeClassifier\n",
    "from sklearn.svm import SVC\n"
   ]
  },
  {
   "cell_type": "code",
   "execution_count": 11,
   "id": "e38df634",
   "metadata": {},
   "outputs": [
    {
     "name": "stdout",
     "output_type": "stream",
     "text": [
      "<class 'pandas.core.frame.DataFrame'>\n",
      "RangeIndex: 50000 entries, 0 to 49999\n",
      "Data columns (total 28 columns):\n",
      " #   Column                  Non-Null Count  Dtype  \n",
      "---  ------                  --------------  -----  \n",
      " 0   Patient_ID              50000 non-null  object \n",
      " 1   Age                     50000 non-null  int64  \n",
      " 2   Country_Region          50000 non-null  object \n",
      " 3   Year                    50000 non-null  int64  \n",
      " 4   Genetic_Risk            50000 non-null  float64\n",
      " 5   Air_Pollution           50000 non-null  float64\n",
      " 6   Alcohol_Use             50000 non-null  float64\n",
      " 7   Smoking                 50000 non-null  float64\n",
      " 8   Obesity_Level           50000 non-null  float64\n",
      " 9   Treatment_Cost_USD      50000 non-null  float64\n",
      " 10  Survival_Years          50000 non-null  float64\n",
      " 11  Target_Severity_Score   50000 non-null  float64\n",
      " 12  Cancer_Type_Breast      50000 non-null  bool   \n",
      " 13  Cancer_Type_Cervical    50000 non-null  bool   \n",
      " 14  Cancer_Type_Colon       50000 non-null  bool   \n",
      " 15  Cancer_Type_Leukemia    50000 non-null  bool   \n",
      " 16  Cancer_Type_Liver       50000 non-null  bool   \n",
      " 17  Cancer_Type_Lung        50000 non-null  bool   \n",
      " 18  Cancer_Type_Prostate    50000 non-null  bool   \n",
      " 19  Cancer_Type_Skin        50000 non-null  bool   \n",
      " 20  Cancer_Stage_Stage 0    50000 non-null  bool   \n",
      " 21  Cancer_Stage_Stage I    50000 non-null  bool   \n",
      " 22  Cancer_Stage_Stage II   50000 non-null  bool   \n",
      " 23  Cancer_Stage_Stage III  50000 non-null  bool   \n",
      " 24  Cancer_Stage_Stage IV   50000 non-null  bool   \n",
      " 25  Gender_Female           50000 non-null  bool   \n",
      " 26  Gender_Male             50000 non-null  bool   \n",
      " 27  Gender_Other            50000 non-null  bool   \n",
      "dtypes: bool(16), float64(8), int64(2), object(2)\n",
      "memory usage: 5.3+ MB\n",
      "None\n"
     ]
    }
   ],
   "source": [
    "df = pd.read_csv(\"global_cancer_patients_2015_2024.csv\")\n",
    "# display(df)\n",
    "# print(df.isnull().sum())\n",
    "# print(df.info())\n",
    "# df = df.drop(\"Patient_ID\")\n",
    "df = pd.get_dummies(df,columns=[\"Cancer_Type\",\"Cancer_Stage\",\"Gender\"])\n",
    "print(df.info())"
   ]
  }
 ],
 "metadata": {
  "kernelspec": {
   "display_name": "Python 3",
   "language": "python",
   "name": "python3"
  },
  "language_info": {
   "codemirror_mode": {
    "name": "ipython",
    "version": 3
   },
   "file_extension": ".py",
   "mimetype": "text/x-python",
   "name": "python",
   "nbconvert_exporter": "python",
   "pygments_lexer": "ipython3",
   "version": "3.12.4"
  }
 },
 "nbformat": 4,
 "nbformat_minor": 5
}
