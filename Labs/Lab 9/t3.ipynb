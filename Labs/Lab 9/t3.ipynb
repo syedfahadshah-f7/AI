{
 "cells": [
  {
   "cell_type": "code",
   "execution_count": 13,
   "id": "6f71469e",
   "metadata": {},
   "outputs": [],
   "source": [
    "from sklearn.neighbors import KNeighborsClassifier\n",
    "import pandas as pd\n",
    "import numpy as np\n",
    "import matplotlib.pyplot as plt\n",
    "import seaborn as sns\n",
    "from sklearn.preprocessing import LabelEncoder,StandardScaler\n",
    "from sklearn.metrics import accuracy_score,confusion_matrix\n",
    "from sklearn.model_selection import KFold\n",
    "from sklearn.svm import SVC"
   ]
  },
  {
   "cell_type": "code",
   "execution_count": 14,
   "id": "3a97de62",
   "metadata": {},
   "outputs": [
    {
     "name": "stdout",
     "output_type": "stream",
     "text": [
      "CustomerID            0\n",
      "Age                  10\n",
      "TotalSpending        10\n",
      "NumVisits            10\n",
      "PurchaseFrequency    10\n",
      "HighValue             0\n",
      "dtype: int64\n",
      "CustomerID           0\n",
      "Age                  0\n",
      "TotalSpending        0\n",
      "NumVisits            0\n",
      "PurchaseFrequency    0\n",
      "HighValue            0\n",
      "dtype: int64\n"
     ]
    },
    {
     "name": "stderr",
     "output_type": "stream",
     "text": [
      "C:\\Users\\fahad\\AppData\\Local\\Temp\\ipykernel_10036\\1986886339.py:5: FutureWarning: DataFrame.fillna with 'method' is deprecated and will raise in a future version. Use obj.ffill() or obj.bfill() instead.\n",
      "  df = df.fillna(method=\"ffill\")\n"
     ]
    }
   ],
   "source": [
    "df = pd.read_csv(\"customer_data.csv\")\n",
    "# display(df.head())\n",
    "print(df.isnull().sum())\n",
    "\n",
    "df = df.fillna(method=\"ffill\")\n",
    "print(df.isnull().sum())"
   ]
  },
  {
   "cell_type": "code",
   "execution_count": null,
   "id": "70468f7f",
   "metadata": {},
   "outputs": [
    {
     "name": "stdout",
     "output_type": "stream",
     "text": [
      "Final Accuracy Score: 0.9339999999999999\n",
      "Confusion Matrix:\n",
      "[[97  0]\n",
      " [ 0  3]]\n"
     ]
    }
   ],
   "source": [
    "kf = KFold(n_splits=5,shuffle=True,random_state=42)\n",
    "y =df.pop(\"HighValue\")\n",
    "accuracy = []\n",
    "scaler = StandardScaler()\n",
    "df = scaler.fit_transform(df)\n",
    "svm = SVC(kernel=\"rbf\",C=1,gamma=\"scale\")\n",
    "for tr_idx,ts_idx in kf.split(df):\n",
    "    X_train,X_test = df[tr_idx],df[ts_idx]\n",
    "    Y_train,Y_test = y.iloc[tr_idx],y.iloc[ts_idx]\n",
    "    \n",
    "    svm.fit(X_train,Y_train)\n",
    "    Y_pred = svm.predict(X_test)\n",
    "    \n",
    "    acc= accuracy_score(Y_pred,Y_test)\n",
    "    accuracy.append(acc)\n",
    "    \n",
    "print(f\"Final Accuracy Score: {np.mean(accuracy)}\")\n",
    "print(\"Confusion Matrix:\")\n",
    "print(confusion_matrix(Y_test, Y_pred))"
   ]
  }
 ],
 "metadata": {
  "kernelspec": {
   "display_name": "Python 3",
   "language": "python",
   "name": "python3"
  },
  "language_info": {
   "codemirror_mode": {
    "name": "ipython",
    "version": 3
   },
   "file_extension": ".py",
   "mimetype": "text/x-python",
   "name": "python",
   "nbconvert_exporter": "python",
   "pygments_lexer": "ipython3",
   "version": "3.12.4"
  }
 },
 "nbformat": 4,
 "nbformat_minor": 5
}
