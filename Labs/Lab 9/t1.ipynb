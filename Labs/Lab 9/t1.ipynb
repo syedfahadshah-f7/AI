{
 "cells": [
  {
   "cell_type": "code",
   "execution_count": 1,
   "id": "cb61e325",
   "metadata": {},
   "outputs": [],
   "source": [
    "import pandas as pd\n",
    "import numpy as np\n",
    "import matplotlib.pyplot as plt\n",
    "import seaborn as snb\n",
    "from sklearn.linear_model import LinearRegression\n",
    "from sklearn.preprocessing import LabelEncoder\n",
    "from sklearn.metrics import accuracy_score,root_mean_squared_error,r2_score\n",
    "from sklearn.neighbors import KNeighborsClassifier\n",
    "from sklearn.model_selection import train_test_split,KFold,LeaveOneOut\n",
    "from sklearn.tree import DecisionTreeClassifier\n",
    "from sklearn.svm import SVC\n"
   ]
  },
  {
   "cell_type": "code",
   "execution_count": 2,
   "id": "c3abd01c",
   "metadata": {},
   "outputs": [
    {
     "data": {
      "text/html": [
       "<div>\n",
       "<style scoped>\n",
       "    .dataframe tbody tr th:only-of-type {\n",
       "        vertical-align: middle;\n",
       "    }\n",
       "\n",
       "    .dataframe tbody tr th {\n",
       "        vertical-align: top;\n",
       "    }\n",
       "\n",
       "    .dataframe thead th {\n",
       "        text-align: right;\n",
       "    }\n",
       "</style>\n",
       "<table border=\"1\" class=\"dataframe\">\n",
       "  <thead>\n",
       "    <tr style=\"text-align: right;\">\n",
       "      <th></th>\n",
       "      <th>SquareFootage</th>\n",
       "      <th>Bedrooms</th>\n",
       "      <th>Bathrooms</th>\n",
       "      <th>HouseAge</th>\n",
       "      <th>Neighborhood</th>\n",
       "      <th>Price</th>\n",
       "    </tr>\n",
       "  </thead>\n",
       "  <tbody>\n",
       "    <tr>\n",
       "      <th>0</th>\n",
       "      <td>3974</td>\n",
       "      <td>4</td>\n",
       "      <td>1.9</td>\n",
       "      <td>36</td>\n",
       "      <td>Suburb</td>\n",
       "      <td>500100</td>\n",
       "    </tr>\n",
       "    <tr>\n",
       "      <th>1</th>\n",
       "      <td>1660</td>\n",
       "      <td>5</td>\n",
       "      <td>1.1</td>\n",
       "      <td>23</td>\n",
       "      <td>Midtown</td>\n",
       "      <td>285600</td>\n",
       "    </tr>\n",
       "    <tr>\n",
       "      <th>2</th>\n",
       "      <td>2094</td>\n",
       "      <td>1</td>\n",
       "      <td>2.8</td>\n",
       "      <td>92</td>\n",
       "      <td>Uptown</td>\n",
       "      <td>283800</td>\n",
       "    </tr>\n",
       "    <tr>\n",
       "      <th>3</th>\n",
       "      <td>1930</td>\n",
       "      <td>5</td>\n",
       "      <td>2.5</td>\n",
       "      <td>45</td>\n",
       "      <td>Uptown</td>\n",
       "      <td>322000</td>\n",
       "    </tr>\n",
       "    <tr>\n",
       "      <th>4</th>\n",
       "      <td>1895</td>\n",
       "      <td>5</td>\n",
       "      <td>1.2</td>\n",
       "      <td>52</td>\n",
       "      <td>Chinatown</td>\n",
       "      <td>301900</td>\n",
       "    </tr>\n",
       "  </tbody>\n",
       "</table>\n",
       "</div>"
      ],
      "text/plain": [
       "   SquareFootage  Bedrooms  Bathrooms  HouseAge Neighborhood   Price\n",
       "0           3974         4        1.9        36       Suburb  500100\n",
       "1           1660         5        1.1        23      Midtown  285600\n",
       "2           2094         1        2.8        92       Uptown  283800\n",
       "3           1930         5        2.5        45       Uptown  322000\n",
       "4           1895         5        1.2        52    Chinatown  301900"
      ]
     },
     "metadata": {},
     "output_type": "display_data"
    },
    {
     "name": "stdout",
     "output_type": "stream",
     "text": [
      "<class 'pandas.core.frame.DataFrame'>\n",
      "RangeIndex: 100 entries, 0 to 99\n",
      "Data columns (total 9 columns):\n",
      " #   Column                 Non-Null Count  Dtype  \n",
      "---  ------                 --------------  -----  \n",
      " 0   SquareFootage          100 non-null    int64  \n",
      " 1   Bedrooms               100 non-null    int64  \n",
      " 2   Bathrooms              100 non-null    float64\n",
      " 3   HouseAge               100 non-null    int64  \n",
      " 4   Price                  100 non-null    int64  \n",
      " 5   Neighborhood_Downtown  100 non-null    bool   \n",
      " 6   Neighborhood_Midtown   100 non-null    bool   \n",
      " 7   Neighborhood_Suburb    100 non-null    bool   \n",
      " 8   Neighborhood_Uptown    100 non-null    bool   \n",
      "dtypes: bool(4), float64(1), int64(4)\n",
      "memory usage: 4.4 KB\n"
     ]
    },
    {
     "data": {
      "text/plain": [
       "None"
      ]
     },
     "metadata": {},
     "output_type": "display_data"
    }
   ],
   "source": [
    "df = pd.read_csv(\"house_prices_dataset.csv\")\n",
    "display(df.head())\n",
    "\n",
    "# display(df.info())\n",
    "\n",
    "# print(df.isnull().sum())\n",
    "\n",
    "df_encoded  = pd.get_dummies(df,columns=[\"Neighborhood\"],drop_first=True)\n",
    "display(df_encoded.info())"
   ]
  },
  {
   "cell_type": "code",
   "execution_count": 3,
   "id": "f8ae3770",
   "metadata": {},
   "outputs": [],
   "source": [
    "# Correct dummy encoding for the test sample\n",
    "test_sample = {\n",
    "    \"SquareFootage\": 2500,\n",
    "    \"Bedrooms\": 4,\n",
    "    \"Bathrooms\": 2.5,\n",
    "    \"HouseAge\": 10,\n",
    "    \"Neighborhood\": \"Uptown\"\n",
    "}\n",
    "\n",
    "# Convert to DataFrame\n",
    "test = pd.DataFrame([test_sample])\n",
    "\n",
    "#When Categorical Column Have Null Value\n",
    "# df['Neighborhood'] = df['Neighborhood'].fillna(df['Neighborhood'].mode()[0])\n",
    "\n",
    "\n",
    "# When Too many columns have NULL Values\n",
    "# Or fill with forward-fill or backward-fill\n",
    "# df = df.fillna(method='ffill')  # Forward fill\n",
    "# df = df.fillna(method='bfill')  # Backward fill\n",
    "\n",
    "\n",
    "# One-hot encode the test sample\n",
    "test = pd.get_dummies(test, columns=[\"Neighborhood\"], drop_first=True)\n",
    "\n",
    "# Align test columns with training columns (fill missing columns with 0)\n",
    "for col in df_encoded.columns:\n",
    "    if col not in test.columns and col != \"Price\":\n",
    "        test[col] = 0\n",
    "\n",
    "# print(test)\n",
    "# Reorder columns to match training data\n",
    "test = test[df_encoded.drop(columns=\"Price\").columns]\n",
    "# print(test)"
   ]
  },
  {
   "cell_type": "code",
   "execution_count": 4,
   "id": "0c9b85ea",
   "metadata": {},
   "outputs": [
    {
     "name": "stdout",
     "output_type": "stream",
     "text": [
      "RMSE: 4781.120962581745, R2 Score: 1.00\n"
     ]
    }
   ],
   "source": [
    "LR = LinearRegression()\n",
    "y = df_encoded.pop(\"Price\")\n",
    "X_train,X_test,Y_train,Y_test = train_test_split(df_encoded,y,test_size=0.2,random_state=42)\n",
    "LR.fit(X_train,Y_train)\n",
    "Y_pred = LR.predict(X_test)\n",
    "\n",
    "rmse = root_mean_squared_error(Y_test, Y_pred)\n",
    "r2 = r2_score(Y_test, Y_pred)\n",
    "\n",
    "print(f\"RMSE: {rmse}, R2 Score: {r2:.2f}\")"
   ]
  },
  {
   "cell_type": "code",
   "execution_count": 5,
   "id": "08f7ad56",
   "metadata": {},
   "outputs": [
    {
     "name": "stdout",
     "output_type": "stream",
     "text": [
      "Predicted Price: $377,125.83\n"
     ]
    }
   ],
   "source": [
    "predicted_price = LR.predict(test)\n",
    "print(f\"Predicted Price: ${predicted_price[0]:,.2f}\")\n"
   ]
  }
 ],
 "metadata": {
  "kernelspec": {
   "display_name": "Python 3",
   "language": "python",
   "name": "python3"
  },
  "language_info": {
   "codemirror_mode": {
    "name": "ipython",
    "version": 3
   },
   "file_extension": ".py",
   "mimetype": "text/x-python",
   "name": "python",
   "nbconvert_exporter": "python",
   "pygments_lexer": "ipython3",
   "version": "3.12.4"
  }
 },
 "nbformat": 4,
 "nbformat_minor": 5
}
