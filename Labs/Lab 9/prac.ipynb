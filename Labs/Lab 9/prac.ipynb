{
 "cells": [
  {
   "cell_type": "code",
   "execution_count": 95,
   "id": "0a44c700",
   "metadata": {},
   "outputs": [],
   "source": [
    "import pandas as pd\n",
    "import numpy as np\n",
    "import matplotlib.pyplot as plt\n",
    "import seaborn as snb\n",
    "from sklearn.linear_model import LinearRegression\n",
    "from sklearn.preprocessing import LabelEncoder\n",
    "from sklearn.metrics import accuracy_score\n",
    "from sklearn.neighbors import KNeighborsClassifier\n",
    "from sklearn.model_selection import train_test_split,KFold,LeaveOneOut\n",
    "from sklearn.tree import DecisionTreeClassifier\n",
    "from sklearn.svm import SVC\n"
   ]
  },
  {
   "cell_type": "code",
   "execution_count": 90,
   "id": "cf0923c7",
   "metadata": {},
   "outputs": [
    {
     "name": "stdout",
     "output_type": "stream",
     "text": [
      "<class 'pandas.core.frame.DataFrame'>\n",
      "RangeIndex: 1000 entries, 0 to 999\n",
      "Data columns (total 15 columns):\n",
      " #   Column                 Non-Null Count  Dtype  \n",
      "---  ------                 --------------  -----  \n",
      " 0   Age                    1000 non-null   int64  \n",
      " 1   Salary                 1000 non-null   float64\n",
      " 2   Experience             1000 non-null   int64  \n",
      " 3   CreditScore            1000 non-null   int64  \n",
      " 4   LoanApproved           1000 non-null   int64  \n",
      " 5   JobType_Doctor         1000 non-null   bool   \n",
      " 6   JobType_Engineer       1000 non-null   bool   \n",
      " 7   JobType_Lawyer         1000 non-null   bool   \n",
      " 8   JobType_Teacher        1000 non-null   bool   \n",
      " 9   City_Chicago           1000 non-null   bool   \n",
      " 10  City_New York          1000 non-null   bool   \n",
      " 11  City_San Francisco     1000 non-null   bool   \n",
      " 12  MaritalStatus_Married  1000 non-null   bool   \n",
      " 13  MaritalStatus_Single   1000 non-null   bool   \n",
      " 14  Gender_Male            1000 non-null   bool   \n",
      "dtypes: bool(10), float64(1), int64(4)\n",
      "memory usage: 49.0 KB\n",
      "None\n"
     ]
    }
   ],
   "source": [
    "df = pd.read_csv(\"supervised_learning_practice_dataset.csv\")\n",
    "# display(df.head())\n",
    "\n",
    "# print(df.isnull().sum())\n",
    "df[\"Salary\"] = df[\"Salary\"].fillna(df[\"Salary\"].mean())\n",
    "# print(df.isnull().sum())\n",
    "\n",
    "# print(df)\n",
    "df_encoded = pd.get_dummies(df, columns=['JobType', 'City', 'MaritalStatus',\"Gender\"], drop_first=True)\n",
    "print(df_encoded.info())"
   ]
  },
  {
   "cell_type": "code",
   "execution_count": null,
   "id": "60a6ff8f",
   "metadata": {},
   "outputs": [
    {
     "name": "stdout",
     "output_type": "stream",
     "text": [
      "Accuracy: 0.87\n"
     ]
    }
   ],
   "source": [
    "#KNN with Train-Test Split \n",
    "\n",
    "knn = KNeighborsClassifier(n_neighbors=7)\n",
    "y = df_encoded.pop(\"LoanApproved\")\n",
    "\n",
    "X_train,X_test,Y_train,Y_test = train_test_split(df_encoded,y,test_size=0.2,random_state=42)\n",
    "knn.fit(X_train,Y_train)\n",
    "y_pred = knn.predict(X_test)\n",
    "\n",
    "print(f\"Accuracy: {accuracy_score(y_pred,Y_test)}\")"
   ]
  },
  {
   "cell_type": "code",
   "execution_count": 93,
   "id": "bcf33ec8",
   "metadata": {},
   "outputs": [
    {
     "name": "stdout",
     "output_type": "stream",
     "text": [
      "Accuracy: 0.8390000000000001\n"
     ]
    }
   ],
   "source": [
    "# KNN with Cross Validation\n",
    "# KFOLD\n",
    "\n",
    "kf=KFold(n_splits=5,shuffle=True,random_state=42)\n",
    "knn = KNeighborsClassifier(n_neighbors=7)\n",
    "accuracy= []\n",
    "for train_idx,test_idx in kf.split(df_encoded):\n",
    "    X_train,X_test = df_encoded.iloc[train_idx], df_encoded.iloc[test_idx]\n",
    "    Y_train,Y_test = y.iloc[train_idx], y.iloc[test_idx]\n",
    "    knn.fit(X_train,Y_train)\n",
    "    Y_pred = knn.predict(X_test)\n",
    "    acc = accuracy_score(Y_pred,Y_test)\n",
    "    accuracy.append(acc)\n",
    "\n",
    "\n",
    "print(f\"Accuracy: {np.mean(accuracy)}\")"
   ]
  },
  {
   "cell_type": "code",
   "execution_count": 94,
   "id": "37373565",
   "metadata": {},
   "outputs": [
    {
     "name": "stdout",
     "output_type": "stream",
     "text": [
      "Accuracy: 0.864\n"
     ]
    }
   ],
   "source": [
    "# KNN with Cross Validation\n",
    "# LeaveOneOut\n",
    "\n",
    "loo = LeaveOneOut()\n",
    "knn = KNeighborsClassifier(n_neighbors=7)\n",
    "accuracy= []\n",
    "for train_idx,test_idx in loo.split(df_encoded):\n",
    "    X_train,X_test = df_encoded.iloc[train_idx], df_encoded.iloc[test_idx]\n",
    "    Y_train,Y_test = y.iloc[train_idx], y.iloc[test_idx]\n",
    "    knn.fit(X_train,Y_train)\n",
    "    Y_pred = knn.predict(X_test)\n",
    "    acc = accuracy_score(Y_pred,Y_test)\n",
    "    accuracy.append(acc)\n",
    "\n",
    "\n",
    "print(f\"Accuracy: {np.mean(accuracy)}\")"
   ]
  }
 ],
 "metadata": {
  "kernelspec": {
   "display_name": "Python 3",
   "language": "python",
   "name": "python3"
  },
  "language_info": {
   "codemirror_mode": {
    "name": "ipython",
    "version": 3
   },
   "file_extension": ".py",
   "mimetype": "text/x-python",
   "name": "python",
   "nbconvert_exporter": "python",
   "pygments_lexer": "ipython3",
   "version": "3.12.4"
  }
 },
 "nbformat": 4,
 "nbformat_minor": 5
}
