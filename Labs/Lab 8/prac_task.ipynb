{
 "cells": [
  {
   "cell_type": "code",
   "execution_count": 9,
   "id": "862e18c9",
   "metadata": {},
   "outputs": [],
   "source": [
    "from pgmpy.models import DiscreteBayesianNetwork\n",
    "from pgmpy.factors.discrete import TabularCPD\n",
    "from pgmpy.inference import VariableElimination\n",
    " "
   ]
  },
  {
   "cell_type": "code",
   "execution_count": 10,
   "id": "624a6004",
   "metadata": {},
   "outputs": [],
   "source": [
    "model = DiscreteBayesianNetwork(\n",
    "    [\n",
    "        (\"Disease\",\"Sneezing\"),(\"Disease\",\"Cough\"),(\"Disease\",\"Fever\"),(\"Disease\",\"LossOfSmell\")\n",
    "    ]\n",
    ")"
   ]
  },
  {
   "cell_type": "code",
   "execution_count": 11,
   "id": "ea0e163b",
   "metadata": {},
   "outputs": [],
   "source": [
    "cpd_disease = TabularCPD(\"Disease\",2,[[0.4],[0.6]],state_names={\"Disease\":[\"Covid19\",\"Allergy\"]})\n",
    "cpd_sneezing = TabularCPD(\"Sneezing\",2,[[0.2,0.9],[0.8,0.1]],evidence=[\"Disease\"],evidence_card=[2],\n",
    "                          state_names={\"Sneezing\":[\"Yes\",\"No\"],\"Disease\":[\"Covid19\",\"Allergy\"]})\n",
    "cpd_coughing = TabularCPD(\"Cough\",2,[[0.7,0.4],[0.3,0.6]],evidence=[\"Disease\"],evidence_card=[2],\n",
    "                          state_names={\"Cough\":[\"Yes\",\"No\"],\"Disease\":[\"Covid19\",\"Allergy\"]})\n",
    "cpd_fever = TabularCPD(\"Fever\",2,[[0.85,0.1],[0.15,0.9]],evidence=[\"Disease\"],evidence_card=[2],\n",
    "                          state_names={\"Fever\":[\"Yes\",\"No\"],\"Disease\":[\"Covid19\",\"Allergy\"]})\n",
    "cpd_los = TabularCPD(\"LossOfSmell\",2,[[0.8,0.2],[0.2,0.8]],evidence=[\"Disease\"],evidence_card=[2],\n",
    "                          state_names={\"LossOfSmell\":[\"Yes\",\"No\"],\"Disease\":[\"Covid19\",\"Allergy\"]})"
   ]
  },
  {
   "cell_type": "code",
   "execution_count": 12,
   "id": "072c2722",
   "metadata": {},
   "outputs": [
    {
     "data": {
      "text/plain": [
       "True"
      ]
     },
     "execution_count": 12,
     "metadata": {},
     "output_type": "execute_result"
    }
   ],
   "source": [
    "model.add_cpds(cpd_disease,cpd_sneezing,cpd_coughing,cpd_fever,cpd_los)\n",
    "model.check_model()"
   ]
  },
  {
   "cell_type": "code",
   "execution_count": 13,
   "id": "4c87f304",
   "metadata": {},
   "outputs": [],
   "source": [
    "inference= VariableElimination(model)"
   ]
  },
  {
   "cell_type": "code",
   "execution_count": 16,
   "id": "e82e3916",
   "metadata": {},
   "outputs": [
    {
     "name": "stdout",
     "output_type": "stream",
     "text": [
      "+------------------+----------------+\n",
      "| Disease          |   phi(Disease) |\n",
      "+==================+================+\n",
      "| Disease(Covid19) |         0.9784 |\n",
      "+------------------+----------------+\n",
      "| Disease(Allergy) |         0.0216 |\n",
      "+------------------+----------------+\n",
      "+------------------+----------------+\n",
      "| Disease          |   phi(Disease) |\n",
      "+==================+================+\n",
      "| Disease(Covid19) |         0.9945 |\n",
      "+------------------+----------------+\n",
      "| Disease(Allergy) |         0.0055 |\n",
      "+------------------+----------------+\n",
      "+------------+--------------+\n",
      "| Cough      |   phi(Cough) |\n",
      "+============+==============+\n",
      "| Cough(Yes) |       0.4000 |\n",
      "+------------+--------------+\n",
      "| Cough(No)  |       0.6000 |\n",
      "+------------+--------------+\n"
     ]
    }
   ],
   "source": [
    "t1 = inference.query(variables=[\"Disease\"],evidence={\"Fever\":\"Yes\",\"Sneezing\":\"No\"})\n",
    "print(t1)\n",
    "t2 = inference.query(variables=[\"Disease\"],evidence={\"Fever\":\"Yes\",\"Sneezing\":\"No\",\"LossOfSmell\":\"Yes\"})\n",
    "print(t2)\n",
    "t3 =inference.query(variables=[\"Cough\"],evidence={\"Disease\":\"Allergy\"})\n",
    "print(t3)"
   ]
  }
 ],
 "metadata": {
  "kernelspec": {
   "display_name": "Python 3",
   "language": "python",
   "name": "python3"
  },
  "language_info": {
   "codemirror_mode": {
    "name": "ipython",
    "version": 3
   },
   "file_extension": ".py",
   "mimetype": "text/x-python",
   "name": "python",
   "nbconvert_exporter": "python",
   "pygments_lexer": "ipython3",
   "version": "3.12.4"
  }
 },
 "nbformat": 4,
 "nbformat_minor": 5
}
