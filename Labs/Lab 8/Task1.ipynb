{
 "cells": [
  {
   "cell_type": "code",
   "execution_count": 1,
   "id": "91e74889",
   "metadata": {},
   "outputs": [
    {
     "name": "stdout",
     "output_type": "stream",
     "text": [
      "1. P(Red card) = 0.5\n",
      "2. P(Heart | Red card) = 0.5\n",
      "3. P(Diamond | Face card) = 0.25\n",
      "4. P(Spade or Queen | Face card) = 0.5\n"
     ]
    }
   ],
   "source": [
    "suits = [\"Hearts\", \"Diamonds\", \"Clubs\", \"Spades\"]\n",
    "ranks = [\"2\", \"3\", \"4\", \"5\", \"6\", \"7\", \"8\", \"9\", \"10\", \"Jack\", \"Queen\", \"King\", \"Ace\"]\n",
    "\n",
    "deck = [(rank, suit) for suit in suits for rank in ranks]\n",
    "\n",
    "red_cards = [card for card in deck if card[1] in [\"Hearts\", \"Diamonds\"]]\n",
    "p_red = len(red_cards) / len(deck)\n",
    "\n",
    "hearts = [card for card in red_cards if card[1] == \"Hearts\"]\n",
    "p_heart_given_red = len(hearts) / len(red_cards)\n",
    "\n",
    "face_cards = [card for card in deck if card[0] in [\"Jack\", \"Queen\", \"King\"]]\n",
    "face_diamonds = [card for card in face_cards if card[1] == \"Diamonds\"]\n",
    "p_diamond_given_face = len(face_diamonds) / len(face_cards)\n",
    "\n",
    "face_spades = [card for card in face_cards if card[1] == \"Spades\"]\n",
    "face_queens = [card for card in face_cards if card[0] == \"Queen\"]\n",
    "\n",
    "#combining two lists into a bigger one and then removing duplicates by storing it into a set type\n",
    "spade_or_queen = set(face_spades + face_queens)\n",
    "p_spade_or_queen_given_face = len(spade_or_queen) / len(face_cards)\n",
    "\n",
    "print(f\"1. P(Red card) = {p_red}\")\n",
    "print(f\"2. P(Heart | Red card) = {p_heart_given_red}\")\n",
    "print(f\"3. P(Diamond | Face card) = {p_diamond_given_face}\")\n",
    "print(f\"4. P(Spade or Queen | Face card) = {p_spade_or_queen_given_face}\")"
   ]
  },
  {
   "cell_type": "code",
   "execution_count": null,
   "id": "74296124",
   "metadata": {},
   "outputs": [],
   "source": []
  }
 ],
 "metadata": {
  "kernelspec": {
   "display_name": "Python 3",
   "language": "python",
   "name": "python3"
  },
  "language_info": {
   "codemirror_mode": {
    "name": "ipython",
    "version": 3
   },
   "file_extension": ".py",
   "mimetype": "text/x-python",
   "name": "python",
   "nbconvert_exporter": "python",
   "pygments_lexer": "ipython3",
   "version": "3.12.4"
  }
 },
 "nbformat": 4,
 "nbformat_minor": 5
}
