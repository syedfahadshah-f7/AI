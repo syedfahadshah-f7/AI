{
 "cells": [
  {
   "cell_type": "code",
   "execution_count": 21,
   "id": "d419aa7e",
   "metadata": {},
   "outputs": [],
   "source": [
    "from pgmpy.models import DiscreteBayesianNetwork\n",
    "from pgmpy.factors.discrete import TabularCPD\n",
    "from pgmpy.inference import VariableElimination"
   ]
  },
  {
   "cell_type": "code",
   "execution_count": 22,
   "id": "58de5b07",
   "metadata": {},
   "outputs": [],
   "source": [
    "model = DiscreteBayesianNetwork(\n",
    "    [\n",
    "        (\"Disease\",\"Fever\"),(\"Disease\",\"Cough\"),(\"Disease\",\"Fatigue\"),\n",
    "        (\"Disease\",\"Chills\")\n",
    "    ]\n",
    ")"
   ]
  },
  {
   "cell_type": "code",
   "execution_count": null,
   "id": "c5dc15e2",
   "metadata": {},
   "outputs": [],
   "source": []
  },
  {
   "cell_type": "code",
   "execution_count": 23,
   "id": "e15f0b1c",
   "metadata": {},
   "outputs": [],
   "source": [
    "#independnet Probablities\n",
    "\n",
    "cpd_dis = TabularCPD(\"Disease\",2,[[0.3],[0.7]],state_names={\"Disease\" : [\"Flu\",\"Cold\"] })\n"
   ]
  },
  {
   "cell_type": "code",
   "execution_count": 24,
   "id": "d5f72d11",
   "metadata": {},
   "outputs": [],
   "source": [
    "#dependent probablities\n",
    "\n",
    "cpd_fev = TabularCPD(\n",
    "    \"Fever\",2,\n",
    "    [[0.9,0.5],[0.1,0.5]],\n",
    "    evidence = [\"Disease\"],\n",
    "    evidence_card= [2],\n",
    "    state_names={\n",
    "        \"Fever\": [\"Yes\",\"No\"],\n",
    "        \"Disease\": [\"Flu\",\"Cold\"]\n",
    "    }\n",
    ")\n",
    "\n",
    "cpd_cou = TabularCPD(\n",
    "    \"Cough\",2,\n",
    "    [[0.8,0.6],[0.2,0.4]],\n",
    "    evidence = [\"Disease\"],\n",
    "    evidence_card= [2],\n",
    "    state_names={\n",
    "        \"Cough\": [\"Yes\",\"No\"],\n",
    "        \"Disease\": [\"Flu\",\"Cold\"]\n",
    "    }\n",
    ")\n",
    "cpd_fat = TabularCPD(\n",
    "    \"Fatigue\",2,\n",
    "    [[0.7,0.3],[0.3,0.7]],\n",
    "    evidence = [\"Disease\"],\n",
    "    evidence_card= [2],\n",
    "    state_names={\n",
    "        \"Fatigue\": [\"Yes\",\"No\"],\n",
    "        \"Disease\": [\"Flu\",\"Cold\"]\n",
    "    }\n",
    ")\n",
    "cpd_chil = TabularCPD(\n",
    "    \"Chills\",2,\n",
    "    [[0.6,0.4],[0.4,0.6]],\n",
    "    evidence = [\"Disease\"],\n",
    "    evidence_card= [2],\n",
    "    state_names={\n",
    "        \"Chills\": [\"Yes\",\"No\"],\n",
    "        \"Disease\": [\"Flu\",\"Cold\"]\n",
    "    }\n",
    ")"
   ]
  },
  {
   "cell_type": "code",
   "execution_count": 25,
   "id": "6aee05c2",
   "metadata": {},
   "outputs": [
    {
     "data": {
      "text/plain": [
       "True"
      ]
     },
     "execution_count": 25,
     "metadata": {},
     "output_type": "execute_result"
    }
   ],
   "source": [
    "model.add_cpds(cpd_dis,cpd_fev,cpd_cou,cpd_fat,cpd_chil)\n",
    "model.check_model()"
   ]
  },
  {
   "cell_type": "code",
   "execution_count": 26,
   "id": "64f3e7d3",
   "metadata": {},
   "outputs": [],
   "source": [
    "inference = VariableElimination(model)"
   ]
  },
  {
   "cell_type": "code",
   "execution_count": 33,
   "id": "6316c21e",
   "metadata": {},
   "outputs": [
    {
     "name": "stdout",
     "output_type": "stream",
     "text": [
      "T1:\n",
      " +---------------+----------------+\n",
      "| Disease       |   phi(Disease) |\n",
      "+===============+================+\n",
      "| Disease(Flu)  |         0.5070 |\n",
      "+---------------+----------------+\n",
      "| Disease(Cold) |         0.4930 |\n",
      "+---------------+----------------+\n",
      "T2:\n",
      " +---------------+----------------+\n",
      "| Disease       |   phi(Disease) |\n",
      "+===============+================+\n",
      "| Disease(Flu)  |         0.6067 |\n",
      "+---------------+----------------+\n",
      "| Disease(Cold) |         0.3933 |\n",
      "+---------------+----------------+\n",
      "T3:\n",
      " +--------------+----------------+\n",
      "| Fatigue      |   phi(Fatigue) |\n",
      "+==============+================+\n",
      "| Fatigue(Yes) |         0.7000 |\n",
      "+--------------+----------------+\n",
      "| Fatigue(No)  |         0.3000 |\n",
      "+--------------+----------------+\n"
     ]
    }
   ],
   "source": [
    "#t1\n",
    "t1 = inference.query(variables=[\"Disease\"],evidence={\"Fever\":\"Yes\",\"Cough\":\"Yes\"})\n",
    "print(\"T1:\\n\",t1)\n",
    "t2 = inference.query(variables=[\"Disease\"],evidence={\"Fever\":\"Yes\",\"Cough\":\"Yes\",\"Chills\":\"Yes\"})\n",
    "print(\"T2:\\n\",t2)\n",
    "t3 = inference.query(variables=[\"Fatigue\"],evidence={\"Disease\":\"Flu\"})\n",
    "print(\"T3:\\n\",t3)"
   ]
  }
 ],
 "metadata": {
  "kernelspec": {
   "display_name": "Python 3",
   "language": "python",
   "name": "python3"
  },
  "language_info": {
   "codemirror_mode": {
    "name": "ipython",
    "version": 3
   },
   "file_extension": ".py",
   "mimetype": "text/x-python",
   "name": "python",
   "nbconvert_exporter": "python",
   "pygments_lexer": "ipython3",
   "version": "3.12.4"
  }
 },
 "nbformat": 4,
 "nbformat_minor": 5
}
