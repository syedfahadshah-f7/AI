{
 "cells": [
  {
   "cell_type": "code",
   "execution_count": 24,
   "id": "b044b215",
   "metadata": {},
   "outputs": [],
   "source": [
    "from pgmpy.models import DiscreteBayesianNetwork\n",
    "from pgmpy.factors.discrete import TabularCPD\n",
    "from pgmpy.inference import VariableElimination"
   ]
  },
  {
   "cell_type": "code",
   "execution_count": 25,
   "id": "2c9fa300",
   "metadata": {},
   "outputs": [],
   "source": [
    "model = DiscreteBayesianNetwork(\n",
    "    [\n",
    "        (\"Intelligence\",\"Grade\"),\n",
    "        (\"StudyHour\",\"Grade\"),\n",
    "        (\"Difficulty\",\"Grade\"),\n",
    "        (\"Grade\", \"Pass\")\n",
    "    ]\n",
    ")"
   ]
  },
  {
   "cell_type": "code",
   "execution_count": 26,
   "id": "ba29deb4",
   "metadata": {},
   "outputs": [],
   "source": [
    "#independent Probablities\n",
    "cpd_int = TabularCPD(\"Intelligence\",2,[[0.7],[0.3]], state_names={\"Intelligence\" : [\"High\",\"Low\"]})\n",
    "cpd_stu = TabularCPD(\"StudyHour\",2,[[0.6],[0.4]], state_names={\"StudyHour\" : [\"Sufficient\",\"Insufficient\"]})\n",
    "cpd_dif = TabularCPD(\"Difficulty\",2,[[0.4],[0.6]], state_names={\"Difficulty\" : [\"Hard\",\"Easy\"]})\n"
   ]
  },
  {
   "cell_type": "code",
   "execution_count": 27,
   "id": "509eced5",
   "metadata": {},
   "outputs": [],
   "source": [
    "#dependent Probablities\n",
    "\n",
    "cpd_grd = TabularCPD(\n",
    "    \"Grade\",3,\n",
    "    [\n",
    "        [0.7, 0.5, 0.5, 0.3, 0.4, 0.2, 0.2, 0.1],  # A\n",
    "        [0.2, 0.3, 0.3, 0.4, 0.4, 0.4, 0.3, 0.3],  # B\n",
    "        [0.1, 0.2, 0.2, 0.3, 0.2, 0.4, 0.5, 0.6]   # C\n",
    "    ],\n",
    "    evidence=[\"Intelligence\",\"StudyHour\",\"Difficulty\"],\n",
    "    evidence_card=[2,2,2],\n",
    "    state_names={\n",
    "        'Grade': ['A', 'B', 'C'],\n",
    "        'Intelligence': ['High', 'Low'],\n",
    "        'StudyHour': ['Sufficient', 'Insufficient'],\n",
    "        'Difficulty': ['Hard', 'Easy']\n",
    "    }\n",
    "    \n",
    ")\n",
    "cpd_pass = TabularCPD(\n",
    "    \"Pass\",2\n",
    "    ,[[0.95,0.80,0.50],[0.05,0.20,0.50]],\n",
    "    evidence=[\"Grade\"]\n",
    "    ,evidence_card=[3]\n",
    "    , state_names={\n",
    "        \"Pass\": [\"Yes\",\"No\"],\n",
    "        'Grade': ['A', 'B', 'C']\n",
    "    }\n",
    ")"
   ]
  },
  {
   "cell_type": "code",
   "execution_count": 28,
   "id": "deca5d3d",
   "metadata": {},
   "outputs": [
    {
     "data": {
      "text/plain": [
       "True"
      ]
     },
     "execution_count": 28,
     "metadata": {},
     "output_type": "execute_result"
    }
   ],
   "source": [
    "model.add_cpds(cpd_int,cpd_stu,cpd_dif,cpd_grd,cpd_pass)\n",
    "model.check_model()"
   ]
  },
  {
   "cell_type": "code",
   "execution_count": 29,
   "id": "1c20cb94",
   "metadata": {},
   "outputs": [],
   "source": [
    "inference = VariableElimination(model)"
   ]
  },
  {
   "cell_type": "code",
   "execution_count": 30,
   "id": "4203c7b9",
   "metadata": {},
   "outputs": [
    {
     "name": "stdout",
     "output_type": "stream",
     "text": [
      "\n",
      "P(Pass=Yes | StudyHour=Sufficient, Difficulty=Hard):\n",
      " +-----------+-------------+\n",
      "| Pass      |   phi(Pass) |\n",
      "+===========+=============+\n",
      "| Pass(Yes) |      0.8525 |\n",
      "+-----------+-------------+\n",
      "| Pass(No)  |      0.1475 |\n",
      "+-----------+-------------+\n",
      "\n",
      "P(Intelligence=High | Pass=Yes):\n",
      " +--------------------+---------------------+\n",
      "| Intelligence       |   phi(Intelligence) |\n",
      "+====================+=====================+\n",
      "| Intelligence(High) |              0.7285 |\n",
      "+--------------------+---------------------+\n",
      "| Intelligence(Low)  |              0.2715 |\n",
      "+--------------------+---------------------+\n"
     ]
    }
   ],
   "source": [
    "# Q1: P(Pass=Yes | StudyHours=Sufficient, Difficulty=Hard)\n",
    "q1 = inference.query(variables=['Pass'], evidence={'StudyHour': 'Sufficient', 'Difficulty': 'Hard'})\n",
    "print(\"\\nP(Pass=Yes | StudyHour=Sufficient, Difficulty=Hard):\\n\", q1)\n",
    "\n",
    "# Q2: P(Intelligence=High | Pass=Yes)\n",
    "q2 = inference.query(variables=['Intelligence'], evidence={'Pass': 'Yes'})\n",
    "print(\"\\nP(Intelligence=High | Pass=Yes):\\n\", q2)\n"
   ]
  }
 ],
 "metadata": {
  "kernelspec": {
   "display_name": "Python 3",
   "language": "python",
   "name": "python3"
  },
  "language_info": {
   "codemirror_mode": {
    "name": "ipython",
    "version": 3
   },
   "file_extension": ".py",
   "mimetype": "text/x-python",
   "name": "python",
   "nbconvert_exporter": "python",
   "pygments_lexer": "ipython3",
   "version": "3.12.4"
  }
 },
 "nbformat": 4,
 "nbformat_minor": 5
}
