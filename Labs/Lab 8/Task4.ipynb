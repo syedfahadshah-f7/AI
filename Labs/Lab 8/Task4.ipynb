{
 "cells": [
  {
   "cell_type": "code",
   "execution_count": 8,
   "id": "d75c986a",
   "metadata": {},
   "outputs": [],
   "source": [
    "import numpy as np\n",
    "\n",
    "states = [\"Sunny\",\"Cloudy\",\"Rainy\"]\n",
    "\n",
    "tr_mat = [[0.33,0.33,0.34],[0.34,0.33,0.33],[0.33,0.34,0.33]]\n",
    "\n",
    "\n",
    "def simulate(initial_state,steps):\n",
    "    cur_state = initial_state\n",
    "    all_states = [cur_state]\n",
    "    rainy_cnt =0;\n",
    "    for i in range(steps):\n",
    "        if cur_state == \"Sunny\":\n",
    "            all_states.append(np.random.choice(states, p=tr_mat[1]))\n",
    "        elif cur_state == \"Cloudy\":\n",
    "            all_states.append(np.random.choice(states, p=tr_mat[2]))\n",
    "        else:\n",
    "            rainy_cnt +=1\n",
    "            all_states.append(np.random.choice(states, p=tr_mat[0]))\n",
    "        cur_state = all_states[-1]\n",
    "    all_states.append(rainy_cnt)\n",
    "    return (all_states)"
   ]
  },
  {
   "cell_type": "code",
   "execution_count": 11,
   "id": "5de85796",
   "metadata": {},
   "outputs": [
    {
     "name": "stdout",
     "output_type": "stream",
     "text": [
      "10 Days Weather Prediction: ['Sunny', 'Rainy', 'Rainy', 'Sunny', 'Rainy', 'Sunny', 'Cloudy', 'Sunny', 'Sunny', 'Rainy', 'Cloudy']\n",
      "Probablity of rainy weather in next 10 days is 0.4\n"
     ]
    }
   ],
   "source": [
    "initial_state = \"Sunny\"\n",
    "res = simulate(initial_state,10)\n",
    "rainy_cnt = res[-1]\n",
    "res.pop()\n",
    "print(f\"10 Days Weather Prediction: {res}\")\n",
    "print(f\"Probablity of rainy weather in next 10 days is {rainy_cnt/10}\")\n",
    "\n"
   ]
  }
 ],
 "metadata": {
  "kernelspec": {
   "display_name": "Python 3",
   "language": "python",
   "name": "python3"
  },
  "language_info": {
   "codemirror_mode": {
    "name": "ipython",
    "version": 3
   },
   "file_extension": ".py",
   "mimetype": "text/x-python",
   "name": "python",
   "nbconvert_exporter": "python",
   "pygments_lexer": "ipython3",
   "version": "3.12.4"
  }
 },
 "nbformat": 4,
 "nbformat_minor": 5
}
